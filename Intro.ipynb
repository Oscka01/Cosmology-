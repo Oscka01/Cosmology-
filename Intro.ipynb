{
  "cells": [
    {
      "cell_type": "code",
      "execution_count": 1,
      "metadata": {
        "tags": [],
        "id": "QwWZ63r8zO75"
      },
      "outputs": [],
      "source": [
        "from IPython.display import IFrame"
      ]
    },
    {
      "cell_type": "code",
      "execution_count": 2,
      "metadata": {
        "tags": [],
        "id": "fRftUJKizO7_"
      },
      "outputs": [],
      "source": [
        "%matplotlib inline"
      ]
    },
    {
      "cell_type": "markdown",
      "metadata": {
        "id": "3cEgZQyNzO8A"
      },
      "source": [
        "# *Hubble and the origins of DESI*"
      ]
    },
    {
      "cell_type": "markdown",
      "metadata": {
        "id": "4Q_Hx4fvzO8C"
      },
      "source": [
        "The year 1929 brought us the Oscars, the first car radio and Edwin Hubble's unexpected observation that all galaxies are moving away from us!"
      ]
    },
    {
      "cell_type": "markdown",
      "metadata": {
        "id": "Q56-zU3SzO8F"
      },
      "source": [
        "![title](https://github.com/DESIHIGH/desihigh/blob/main/desihigh/images/edwin-hubble.jpg?raw=1)"
      ]
    },
    {
      "cell_type": "markdown",
      "metadata": {
        "id": "GlKFmH4qzO8G"
      },
      "source": [
        "Photo credit:  Margaret Bourke-White, Time & Life Pictures, Getty Images"
      ]
    },
    {
      "cell_type": "markdown",
      "metadata": {
        "id": "vNDpgFuDzO8G"
      },
      "source": [
        "Let's take a quick look at some of the galaxies he was looking at, Triangulum and the Large Magellanic Cloud."
      ]
    },
    {
      "cell_type": "markdown",
      "metadata": {
        "id": "ljs5-8ZxzO8H"
      },
      "source": [
        "![title](https://github.com/DESIHIGH/desihigh/blob/main/desihigh/images/Triangulum.jpg?raw=1)\n",
        "![title](https://github.com/DESIHIGH/desihigh/blob/main/desihigh/images/LMC.jpg?raw=1)"
      ]
    },
    {
      "cell_type": "markdown",
      "metadata": {
        "id": "NxiNfSXozO8H"
      },
      "source": [
        "In total, Edwin studied the distances of 24 galaxies from us, and their observed `redshifts'.  What does that mean?"
      ]
    },
    {
      "cell_type": "markdown",
      "metadata": {
        "id": "3ap2kDTwzO8I"
      },
      "source": [
        "Maybe you already know that the energy levels of Hydrogen are __quantized__, with electrons habitating a series of shells with __discrete__ energies.  When an electron transitions between any two levels, light is emitted with a wavelength neatly given by the \"Rydberg\" formula:\n",
        "\n",
        "$$\n",
        "\\frac{1}{\\lambda_{\\rm vac}} = 1.096 \\times 10^{7} \\left ( \\frac{1}{n^2} - \\frac{1}{m^2} \\right )\n",
        "$$\n",
        "\n",
        "where $n$ and $m$ (any one of $[0, 1, 2, ... \\infty]$) label the two energy levels."
      ]
    },
    {
      "cell_type": "code",
      "execution_count": 3,
      "metadata": {
        "tags": [],
        "id": "XQoAm5vFzO8J"
      },
      "outputs": [],
      "source": [
        "# First, let's import some useful packages:\n",
        "import os\n",
        "import sys\n",
        "import astropy\n",
        "import pylab           as     pl\n",
        "import pandas          as     pd\n",
        "import numpy           as     np\n",
        "\n",
        "\n",
        "from   matplotlib      import pyplot as plt\n",
        "from   scipy           import stats\n",
        "from   IPython.display import Image\n",
        "from   pkg_resources   import resource_filename"
      ]
    },
    {
      "cell_type": "code",
      "execution_count": 4,
      "metadata": {
        "tags": [],
        "id": "PUlAxJzczO8J"
      },
      "outputs": [],
      "source": [
        "# For our friends running on Google Colab - remember to\n",
        "# mount your drive for all notebooks other than Colab.ipynb\n",
        "#\n",
        "# Safely ignore otherwise!\n",
        "sys.path.append('/content/drive/MyDrive/desihigh/')"
      ]
    },
    {
      "cell_type": "code",
      "source": [
        "from google.colab import drive\n",
        "drive.mount('/content/drive')b"
      ],
      "metadata": {
        "colab": {
          "base_uri": "https://localhost:8080/"
        },
        "id": "jUQHpzYLzYb_",
        "outputId": "17b1d261-5581-48ab-e57f-8f3089eec37e"
      },
      "execution_count": 6,
      "outputs": [
        {
          "output_type": "stream",
          "name": "stdout",
          "text": [
            "Mounted at /content/drive\n"
          ]
        }
      ]
    },
    {
      "cell_type": "code",
      "source": [
        "%cd /content/drive/MyDrive/desihigh/"
      ],
      "metadata": {
        "colab": {
          "base_uri": "https://localhost:8080/"
        },
        "id": "LMBiRsm6zyq_",
        "outputId": "fe76628f-4c70-4386-9e3d-5ac010737e85"
      },
      "execution_count": 7,
      "outputs": [
        {
          "output_type": "stream",
          "name": "stdout",
          "text": [
            "/content/drive/MyDrive/desihigh\n"
          ]
        }
      ]
    },
    {
      "cell_type": "code",
      "execution_count": 8,
      "metadata": {
        "tags": [],
        "id": "cVHeB_1azO8J"
      },
      "outputs": [],
      "source": [
        "from   tools           import pubplot\n",
        "\n",
        "from   tools.wave2rgb  import wavelength_to_rgb"
      ]
    },
    {
      "cell_type": "code",
      "execution_count": 9,
      "metadata": {
        "tags": [],
        "id": "-EHYDuekzO8K"
      },
      "outputs": [],
      "source": [
        "def Rydberg(n, m):\n",
        "    # Vacuum wavelengths [nanometres]\n",
        "    result = 1.096e-2 * (1. / n / n - 1. / m / m)\n",
        "    return 1. / result"
      ]
    },
    {
      "cell_type": "markdown",
      "metadata": {
        "id": "94ULEnvUzO8L"
      },
      "source": [
        "Let's workout the wavelengths of light that Hydrogen can emit:"
      ]
    },
    {
      "cell_type": "code",
      "execution_count": 10,
      "metadata": {
        "tags": [],
        "colab": {
          "base_uri": "https://localhost:8080/"
        },
        "id": "c5OQ3wGHzO8M",
        "outputId": "227e4999-20d1-4492-b454-6ca273fba21b"
      },
      "outputs": [
        {
          "output_type": "stream",
          "name": "stdout",
          "text": [
            "n \t m \t Wavelength [nm]\n",
            "1 \t 2 \t 121.655\n",
            "1 \t 3 \t 102.646\n",
            "1 \t 4 \t 97.324\n",
            "1 \t 5 \t 95.043\n",
            "1 \t 6 \t 93.848\n",
            "1 \t 7 \t 93.142\n",
            "1 \t 8 \t 92.689\n",
            "1 \t 9 \t 92.381\n",
            "2 \t 3 \t 656.934\n",
            "2 \t 4 \t 486.618\n",
            "2 \t 5 \t 434.480\n",
            "2 \t 6 \t 410.584\n",
            "2 \t 7 \t 397.405\n",
            "2 \t 8 \t 389.294\n",
            "2 \t 9 \t 383.923\n",
            "3 \t 4 \t 1876.955\n",
            "3 \t 5 \t 1283.075\n",
            "3 \t 6 \t 1094.891\n",
            "3 \t 7 \t 1005.931\n",
            "3 \t 8 \t 955.541\n",
            "3 \t 9 \t 923.814\n",
            "4 \t 5 \t 4055.150\n",
            "4 \t 6 \t 2627.737\n",
            "4 \t 7 \t 2167.662\n",
            "4 \t 8 \t 1946.472\n",
            "4 \t 9 \t 1819.203\n",
            "5 \t 6 \t 7465.163\n",
            "5 \t 7 \t 4657.086\n",
            "5 \t 8 \t 3743.215\n",
            "5 \t 9 \t 3299.335\n",
            "6 \t 7 \t 12380.685\n",
            "6 \t 8 \t 7507.821\n",
            "6 \t 9 \t 5912.409\n",
            "7 \t 8 \t 19075.426\n",
            "7 \t 9 \t 11316.720\n",
            "8 \t 9 \t 27823.100\n"
          ]
        }
      ],
      "source": [
        "waves = []\n",
        "\n",
        "print('n \\t m \\t Wavelength [nm]')\n",
        "\n",
        "for n in np.arange(1, 10, 1):\n",
        "    for m in np.arange(n+1, 10, 1):\n",
        "        wave = Rydberg(n, m)\n",
        "        waves.append(wave)\n",
        "\n",
        "        print('{:d} \\t {:d} \\t {:.3f}'.format(n, m, wave))"
      ]
    },
    {
      "cell_type": "markdown",
      "metadata": {
        "id": "BVvzWGIWzO8N"
      },
      "source": [
        "Now let's plot the wavelengths and see the color of these lines.  If we were to look at a emitting Hydrogen atom, you'd see this:"
      ]
    },
    {
      "cell_type": "code",
      "execution_count": 11,
      "metadata": {
        "tags": [],
        "colab": {
          "base_uri": "https://localhost:8080/",
          "height": 1000
        },
        "id": "4Oa0jGe8zO8N",
        "outputId": "8061b745-d869-446a-ad50-82441617474f"
      },
      "outputs": [
        {
          "output_type": "execute_result",
          "data": {
            "text/plain": [
              "(380.0, 780.0)"
            ]
          },
          "metadata": {},
          "execution_count": 11
        },
        {
          "output_type": "stream",
          "name": "stderr",
          "text": [
            "WARNING:matplotlib.font_manager:findfont: Generic family 'serif' not found because none of the following families were found: Times New Roman\n",
            "WARNING:matplotlib.font_manager:findfont: Generic family 'serif' not found because none of the following families were found: Times New Roman\n",
            "WARNING:matplotlib.font_manager:findfont: Generic family 'serif' not found because none of the following families were found: Times New Roman\n",
            "WARNING:matplotlib.font_manager:findfont: Generic family 'serif' not found because none of the following families were found: Times New Roman\n",
            "WARNING:matplotlib.font_manager:findfont: Generic family 'serif' not found because none of the following families were found: Times New Roman\n",
            "WARNING:matplotlib.font_manager:findfont: Generic family 'serif' not found because none of the following families were found: Times New Roman\n",
            "WARNING:matplotlib.font_manager:findfont: Generic family 'serif' not found because none of the following families were found: Times New Roman\n",
            "WARNING:matplotlib.font_manager:findfont: Generic family 'serif' not found because none of the following families were found: Times New Roman\n",
            "WARNING:matplotlib.font_manager:findfont: Generic family 'serif' not found because none of the following families were found: Times New Roman\n",
            "WARNING:matplotlib.font_manager:findfont: Generic family 'serif' not found because none of the following families were found: Times New Roman\n",
            "WARNING:matplotlib.font_manager:findfont: Generic family 'serif' not found because none of the following families were found: Times New Roman\n",
            "WARNING:matplotlib.font_manager:findfont: Generic family 'serif' not found because none of the following families were found: Times New Roman\n",
            "WARNING:matplotlib.font_manager:findfont: Generic family 'serif' not found because none of the following families were found: Times New Roman\n",
            "WARNING:matplotlib.font_manager:findfont: Generic family 'serif' not found because none of the following families were found: Times New Roman\n",
            "WARNING:matplotlib.font_manager:findfont: Generic family 'serif' not found because none of the following families were found: Times New Roman\n",
            "WARNING:matplotlib.font_manager:findfont: Generic family 'serif' not found because none of the following families were found: Times New Roman\n",
            "WARNING:matplotlib.font_manager:findfont: Generic family 'serif' not found because none of the following families were found: Times New Roman\n",
            "WARNING:matplotlib.font_manager:findfont: Generic family 'serif' not found because none of the following families were found: Times New Roman\n",
            "WARNING:matplotlib.font_manager:findfont: Generic family 'serif' not found because none of the following families were found: Times New Roman\n",
            "WARNING:matplotlib.font_manager:findfont: Generic family 'serif' not found because none of the following families were found: Times New Roman\n",
            "WARNING:matplotlib.font_manager:findfont: Generic family 'serif' not found because none of the following families were found: Times New Roman\n",
            "WARNING:matplotlib.font_manager:findfont: Generic family 'serif' not found because none of the following families were found: Times New Roman\n",
            "WARNING:matplotlib.font_manager:findfont: Generic family 'serif' not found because none of the following families were found: Times New Roman\n",
            "WARNING:matplotlib.font_manager:findfont: Generic family 'serif' not found because none of the following families were found: Times New Roman\n",
            "WARNING:matplotlib.font_manager:findfont: Generic family 'serif' not found because none of the following families were found: Times New Roman\n",
            "WARNING:matplotlib.font_manager:findfont: Generic family 'serif' not found because none of the following families were found: Times New Roman\n",
            "WARNING:matplotlib.font_manager:findfont: Generic family 'serif' not found because none of the following families were found: Times New Roman\n",
            "WARNING:matplotlib.font_manager:findfont: Generic family 'serif' not found because none of the following families were found: Times New Roman\n",
            "WARNING:matplotlib.font_manager:findfont: Generic family 'serif' not found because none of the following families were found: Times New Roman\n",
            "WARNING:matplotlib.font_manager:findfont: Generic family 'serif' not found because none of the following families were found: Times New Roman\n",
            "WARNING:matplotlib.font_manager:findfont: Generic family 'serif' not found because none of the following families were found: Times New Roman\n",
            "WARNING:matplotlib.font_manager:findfont: Generic family 'serif' not found because none of the following families were found: Times New Roman\n",
            "WARNING:matplotlib.font_manager:findfont: Generic family 'serif' not found because none of the following families were found: Times New Roman\n",
            "WARNING:matplotlib.font_manager:findfont: Generic family 'serif' not found because none of the following families were found: Times New Roman\n",
            "WARNING:matplotlib.font_manager:findfont: Generic family 'serif' not found because none of the following families were found: Times New Roman\n",
            "WARNING:matplotlib.font_manager:findfont: Generic family 'serif' not found because none of the following families were found: Times New Roman\n",
            "WARNING:matplotlib.font_manager:findfont: Generic family 'serif' not found because none of the following families were found: Times New Roman\n",
            "WARNING:matplotlib.font_manager:findfont: Generic family 'serif' not found because none of the following families were found: Times New Roman\n",
            "WARNING:matplotlib.font_manager:findfont: Generic family 'serif' not found because none of the following families were found: Times New Roman\n",
            "WARNING:matplotlib.font_manager:findfont: Generic family 'serif' not found because none of the following families were found: Times New Roman\n",
            "WARNING:matplotlib.font_manager:findfont: Generic family 'serif' not found because none of the following families were found: Times New Roman\n",
            "WARNING:matplotlib.font_manager:findfont: Generic family 'serif' not found because none of the following families were found: Times New Roman\n",
            "WARNING:matplotlib.font_manager:findfont: Generic family 'serif' not found because none of the following families were found: Times New Roman\n",
            "WARNING:matplotlib.font_manager:findfont: Generic family 'serif' not found because none of the following families were found: Times New Roman\n",
            "WARNING:matplotlib.font_manager:findfont: Generic family 'serif' not found because none of the following families were found: Times New Roman\n",
            "WARNING:matplotlib.font_manager:findfont: Generic family 'serif' not found because none of the following families were found: Times New Roman\n",
            "WARNING:matplotlib.font_manager:findfont: Generic family 'serif' not found because none of the following families were found: Times New Roman\n",
            "WARNING:matplotlib.font_manager:findfont: Generic family 'serif' not found because none of the following families were found: Times New Roman\n"
          ]
        },
        {
          "output_type": "display_data",
          "data": {
            "text/plain": [
              "<Figure size 664.176x410.483 with 1 Axes>"
            ],
            "image/png": "[encoded data removed]"
          },
          "metadata": {}
        }
      ],
      "source": [
        "for wave in waves:\n",
        "  # color = [r, g, b]\n",
        "  color = wavelength_to_rgb(wave)\n",
        "  pl.axvline(x=wave, c=color)\n",
        "\n",
        "pl.xlabel('Vacuum wavelength [nanometers]')\n",
        "pl.xlim(380., 780.)"
      ]
    },
    {
      "cell_type": "markdown",
      "metadata": {
        "id": "JxkI9G3EzO8O"
      },
      "source": [
        "If the hydrogen exists in a galaxy that is moving, we see the lines Doppler shifted. We will call this the \"redshift\" of the galaxy, often denote  as $z$ (https://en.wikipedia.org/wiki/Redshift). Let's say the galaxy is moving at 1% the speed of light (v = 0.1*c), we can calculate the redshift with the following equation:\n",
        "$$\n",
        "1 + z = \\sqrt{\\frac{1 + v/c}{1 - v/c}}\n",
        "$$"
      ]
    },
    {
      "cell_type": "code",
      "execution_count": 12,
      "metadata": {
        "tags": [],
        "id": "htlP9OeUzO8O"
      },
      "outputs": [],
      "source": [
        "def redshift(v):\n",
        "    # v [speed of light].\n",
        "    result = (1. + v) / (1. - v)\n",
        "    result = np.sqrt(result) - 1.\n",
        "\n",
        "    return  result"
      ]
    },
    {
      "cell_type": "code",
      "execution_count": 13,
      "metadata": {
        "tags": [],
        "colab": {
          "base_uri": "https://localhost:8080/",
          "height": 1000
        },
        "id": "7_Qft1GQzO8O",
        "outputId": "458dfd05-3c94-46ce-c9fd-8928df0d72c4"
      },
      "outputs": [
        {
          "output_type": "execute_result",
          "data": {
            "text/plain": [
              "(380.0, 780.0)"
            ]
          },
          "metadata": {},
          "execution_count": 13
        },
        {
          "output_type": "stream",
          "name": "stderr",
          "text": [
            "WARNING:matplotlib.font_manager:findfont: Generic family 'serif' not found because none of the following families were found: Times New Roman\n",
            "WARNING:matplotlib.font_manager:findfont: Generic family 'serif' not found because none of the following families were found: Times New Roman\n",
            "WARNING:matplotlib.font_manager:findfont: Generic family 'serif' not found because none of the following families were found: Times New Roman\n",
            "WARNING:matplotlib.font_manager:findfont: Generic family 'serif' not found because none of the following families were found: Times New Roman\n",
            "WARNING:matplotlib.font_manager:findfont: Generic family 'serif' not found because none of the following families were found: Times New Roman\n",
            "WARNING:matplotlib.font_manager:findfont: Generic family 'serif' not found because none of the following families were found: Times New Roman\n",
            "WARNING:matplotlib.font_manager:findfont: Generic family 'serif' not found because none of the following families were found: Times New Roman\n",
            "WARNING:matplotlib.font_manager:findfont: Generic family 'serif' not found because none of the following families were found: Times New Roman\n",
            "WARNING:matplotlib.font_manager:findfont: Generic family 'serif' not found because none of the following families were found: Times New Roman\n",
            "WARNING:matplotlib.font_manager:findfont: Generic family 'serif' not found because none of the following families were found: Times New Roman\n",
            "WARNING:matplotlib.font_manager:findfont: Generic family 'serif' not found because none of the following families were found: Times New Roman\n",
            "WARNING:matplotlib.font_manager:findfont: Generic family 'serif' not found because none of the following families were found: Times New Roman\n",
            "WARNING:matplotlib.font_manager:findfont: Generic family 'serif' not found because none of the following families were found: Times New Roman\n",
            "WARNING:matplotlib.font_manager:findfont: Generic family 'serif' not found because none of the following families were found: Times New Roman\n",
            "WARNING:matplotlib.font_manager:findfont: Generic family 'serif' not found because none of the following families were found: Times New Roman\n",
            "WARNING:matplotlib.font_manager:findfont: Generic family 'serif' not found because none of the following families were found: Times New Roman\n",
            "WARNING:matplotlib.font_manager:findfont: Generic family 'serif' not found because none of the following families were found: Times New Roman\n",
            "WARNING:matplotlib.font_manager:findfont: Generic family 'serif' not found because none of the following families were found: Times New Roman\n",
            "WARNING:matplotlib.font_manager:findfont: Generic family 'serif' not found because none of the following families were found: Times New Roman\n",
            "WARNING:matplotlib.font_manager:findfont: Generic family 'serif' not found because none of the following families were found: Times New Roman\n",
            "WARNING:matplotlib.font_manager:findfont: Generic family 'serif' not found because none of the following families were found: Times New Roman\n",
            "WARNING:matplotlib.font_manager:findfont: Generic family 'serif' not found because none of the following families were found: Times New Roman\n",
            "WARNING:matplotlib.font_manager:findfont: Generic family 'serif' not found because none of the following families were found: Times New Roman\n",
            "WARNING:matplotlib.font_manager:findfont: Generic family 'serif' not found because none of the following families were found: Times New Roman\n",
            "WARNING:matplotlib.font_manager:findfont: Generic family 'serif' not found because none of the following families were found: Times New Roman\n",
            "WARNING:matplotlib.font_manager:findfont: Generic family 'serif' not found because none of the following families were found: Times New Roman\n",
            "WARNING:matplotlib.font_manager:findfont: Generic family 'serif' not found because none of the following families were found: Times New Roman\n",
            "WARNING:matplotlib.font_manager:findfont: Generic family 'serif' not found because none of the following families were found: Times New Roman\n",
            "WARNING:matplotlib.font_manager:findfont: Generic family 'serif' not found because none of the following families were found: Times New Roman\n",
            "WARNING:matplotlib.font_manager:findfont: Generic family 'serif' not found because none of the following families were found: Times New Roman\n",
            "WARNING:matplotlib.font_manager:findfont: Generic family 'serif' not found because none of the following families were found: Times New Roman\n",
            "WARNING:matplotlib.font_manager:findfont: Generic family 'serif' not found because none of the following families were found: Times New Roman\n",
            "WARNING:matplotlib.font_manager:findfont: Generic family 'serif' not found because none of the following families were found: Times New Roman\n",
            "WARNING:matplotlib.font_manager:findfont: Generic family 'serif' not found because none of the following families were found: Times New Roman\n",
            "WARNING:matplotlib.font_manager:findfont: Generic family 'serif' not found because none of the following families were found: Times New Roman\n",
            "WARNING:matplotlib.font_manager:findfont: Generic family 'serif' not found because none of the following families were found: Times New Roman\n",
            "WARNING:matplotlib.font_manager:findfont: Generic family 'serif' not found because none of the following families were found: Times New Roman\n",
            "WARNING:matplotlib.font_manager:findfont: Generic family 'serif' not found because none of the following families were found: Times New Roman\n",
            "WARNING:matplotlib.font_manager:findfont: Generic family 'serif' not found because none of the following families were found: Times New Roman\n",
            "WARNING:matplotlib.font_manager:findfont: Generic family 'serif' not found because none of the following families were found: Times New Roman\n",
            "WARNING:matplotlib.font_manager:findfont: Generic family 'serif' not found because none of the following families were found: Times New Roman\n",
            "WARNING:matplotlib.font_manager:findfont: Generic family 'serif' not found because none of the following families were found: Times New Roman\n",
            "WARNING:matplotlib.font_manager:findfont: Generic family 'serif' not found because none of the following families were found: Times New Roman\n",
            "WARNING:matplotlib.font_manager:findfont: Generic family 'serif' not found because none of the following families were found: Times New Roman\n",
            "WARNING:matplotlib.font_manager:findfont: Generic family 'serif' not found because none of the following families were found: Times New Roman\n",
            "WARNING:matplotlib.font_manager:findfont: Generic family 'serif' not found because none of the following families were found: Times New Roman\n",
            "WARNING:matplotlib.font_manager:findfont: Generic family 'serif' not found because none of the following families were found: Times New Roman\n",
            "WARNING:matplotlib.font_manager:findfont: Generic family 'serif' not found because none of the following families were found: Times New Roman\n"
          ]
        },
        {
          "output_type": "display_data",
          "data": {
            "text/plain": [
              "<Figure size 664.176x410.483 with 1 Axes>"
            ],
            "image/png": "[encoded data removed]"
          },
          "metadata": {}
        }
      ],
      "source": [
        "zz = redshift(0.01)\n",
        "\n",
        "for restwave in waves:\n",
        "  obswave = (1. + zz) * restwave\n",
        "\n",
        "  color   = wavelength_to_rgb(restwave)\n",
        "  pl.axvline(x=restwave, c=color, alpha=0.25)\n",
        "\n",
        "  color   = wavelength_to_rgb(obswave)\n",
        "  pl.axvline(x=obswave, c=color)\n",
        "\n",
        "pl.xlabel('Vacuum wavelength [nanometers]')\n",
        "pl.xlim(380., 780.)"
      ]
    },
    {
      "cell_type": "markdown",
      "metadata": {
        "id": "FiOj-TN8zO8P"
      },
      "source": [
        "Here you see the original line (faint) and the line shifted if the galaxy with the emitting Hydrogen is moving. https://en.wikipedia.org/wiki/Doppler_effect will tell you all the details."
      ]
    },
    {
      "cell_type": "markdown",
      "metadata": {
        "id": "mcSrYRSizO8P"
      },
      "source": [
        "Hubble knew the lines of Hydrogen, and for many other elements.  By reversing above, he was able to calculate the velocity for many galaxies.  He found out how far away there were (from how bright some special stars in the galaxy were - https://en.wikipedia.org/wiki/Cepheid_variable) and how fast they were moving (from their redshift, as above):"
      ]
    },
    {
      "cell_type": "code",
      "execution_count": 14,
      "metadata": {
        "tags": [],
        "id": "656WSLpdzO8P"
      },
      "outputs": [],
      "source": [
        "hub = resource_filename('desihigh','dat/hubble.dat')"
      ]
    },
    {
      "cell_type": "code",
      "execution_count": 15,
      "metadata": {
        "tags": [],
        "colab": {
          "base_uri": "https://localhost:8080/",
          "height": 35
        },
        "id": "qLeVeZBtzO8P",
        "outputId": "8f18c554-57ea-4b13-9a44-7804a40ed6c9"
      },
      "outputs": [
        {
          "output_type": "execute_result",
          "data": {
            "text/plain": [
              "'/content/drive/MyDrive/desihigh/desihigh/dat/hubble.dat'"
            ],
            "application/vnd.google.colaboratory.intrinsic+json": {
              "type": "string"
            }
          },
          "metadata": {},
          "execution_count": 15
        }
      ],
      "source": [
        "hub\n"
      ]
    },
    {
      "cell_type": "code",
      "execution_count": 16,
      "metadata": {
        "tags": [],
        "colab": {
          "base_uri": "https://localhost:8080/",
          "height": 802
        },
        "id": "qfMg9mcBzO8Q",
        "outputId": "6811b47f-79dc-45cd-9839-b2c6abeb205c"
      },
      "outputs": [
        {
          "output_type": "execute_result",
          "data": {
            "text/plain": [
              "   Galaxy name  Distance [Mpc]  Velocity [km/s]\n",
              "0        S.Mag           0.032              170\n",
              "1        L.Mag           0.034              290\n",
              "2      NGC6822           0.214             -130\n",
              "3       NGC598           0.263              -70\n",
              "4       NGC221           0.275             -185\n",
              "5       NGC224           0.275             -220\n",
              "6      NGC5457           0.450              200\n",
              "7      NGC4736           0.500              290\n",
              "8      NGC5194           0.500              270\n",
              "9      NGC4449           0.630              200\n",
              "10     NGC4214           0.800              300\n",
              "11     NGC3031           0.900              -30\n",
              "12     NGC3627           0.900              650\n",
              "13     NGC4826           0.900              150\n",
              "14     NGC5236           0.900              500\n",
              "15     NGC1068           1.000              920\n",
              "16     NGC5055           1.100              450\n",
              "17     NGC7331           1.100              500\n",
              "18     NGC4258           1.400              500\n",
              "19     NGC4151           1.700              960\n",
              "20     NGC4382           2.000              500\n",
              "21     NGC4472           2.000              850\n",
              "22     NGC4486           2.000              800\n",
              "23     NGC4649           2.000             1090"
            ],
            "text/html": [
              "\n",
              "  <div id=\"df-ad66e1b9-3f15-43dc-8174-67d578cbdcca\" class=\"colab-df-container\">\n",
              "    <div>\n",
              "<style scoped>\n",
              "    .dataframe tbody tr th:only-of-type {\n",
              "        vertical-align: middle;\n",
              "    }\n",
              "\n",
              "    .dataframe tbody tr th {\n",
              "        vertical-align: top;\n",
              "    }\n",
              "\n",
              "    .dataframe thead th {\n",
              "        text-align: right;\n",
              "    }\n",
              "</style>\n",
              "<table border=\"1\" class=\"dataframe\">\n",
              "  <thead>\n",
              "    <tr style=\"text-align: right;\">\n",
              "      <th></th>\n",
              "      <th>Galaxy name</th>\n",
              "      <th>Distance [Mpc]</th>\n",
              "      <th>Velocity [km/s]</th>\n",
              "    </tr>\n",
              "  </thead>\n",
              "  <tbody>\n",
              "    <tr>\n",
              "      <th>0</th>\n",
              "      <td>S.Mag</td>\n",
              "      <td>0.032</td>\n",
              "      <td>170</td>\n",
              "    </tr>\n",
              "    <tr>\n",
              "      <th>1</th>\n",
              "      <td>L.Mag</td>\n",
              "      <td>0.034</td>\n",
              "      <td>290</td>\n",
              "    </tr>\n",
              "    <tr>\n",
              "      <th>2</th>\n",
              "      <td>NGC6822</td>\n",
              "      <td>0.214</td>\n",
              "      <td>-130</td>\n",
              "    </tr>\n",
              "    <tr>\n",
              "      <th>3</th>\n",
              "      <td>NGC598</td>\n",
              "      <td>0.263</td>\n",
              "      <td>-70</td>\n",
              "    </tr>\n",
              "    <tr>\n",
              "      <th>4</th>\n",
              "      <td>NGC221</td>\n",
              "      <td>0.275</td>\n",
              "      <td>-185</td>\n",
              "    </tr>\n",
              "    <tr>\n",
              "      <th>5</th>\n",
              "      <td>NGC224</td>\n",
              "      <td>0.275</td>\n",
              "      <td>-220</td>\n",
              "    </tr>\n",
              "    <tr>\n",
              "      <th>6</th>\n",
              "      <td>NGC5457</td>\n",
              "      <td>0.450</td>\n",
              "      <td>200</td>\n",
              "    </tr>\n",
              "    <tr>\n",
              "      <th>7</th>\n",
              "      <td>NGC4736</td>\n",
              "      <td>0.500</td>\n",
              "      <td>290</td>\n",
              "    </tr>\n",
              "    <tr>\n",
              "      <th>8</th>\n",
              "      <td>NGC5194</td>\n",
              "      <td>0.500</td>\n",
              "      <td>270</td>\n",
              "    </tr>\n",
              "    <tr>\n",
              "      <th>9</th>\n",
              "      <td>NGC4449</td>\n",
              "      <td>0.630</td>\n",
              "      <td>200</td>\n",
              "    </tr>\n",
              "    <tr>\n",
              "      <th>10</th>\n",
              "      <td>NGC4214</td>\n",
              "      <td>0.800</td>\n",
              "      <td>300</td>\n",
              "    </tr>\n",
              "    <tr>\n",
              "      <th>11</th>\n",
              "      <td>NGC3031</td>\n",
              "      <td>0.900</td>\n",
              "      <td>-30</td>\n",
              "    </tr>\n",
              "    <tr>\n",
              "      <th>12</th>\n",
              "      <td>NGC3627</td>\n",
              "      <td>0.900</td>\n",
              "      <td>650</td>\n",
              "    </tr>\n",
              "    <tr>\n",
              "      <th>13</th>\n",
              "      <td>NGC4826</td>\n",
              "      <td>0.900</td>\n",
              "      <td>150</td>\n",
              "    </tr>\n",
              "    <tr>\n",
              "      <th>14</th>\n",
              "      <td>NGC5236</td>\n",
              "      <td>0.900</td>\n",
              "      <td>500</td>\n",
              "    </tr>\n",
              "    <tr>\n",
              "      <th>15</th>\n",
              "      <td>NGC1068</td>\n",
              "      <td>1.000</td>\n",
              "      <td>920</td>\n",
              "    </tr>\n",
              "    <tr>\n",
              "      <th>16</th>\n",
              "      <td>NGC5055</td>\n",
              "      <td>1.100</td>\n",
              "      <td>450</td>\n",
              "    </tr>\n",
              "    <tr>\n",
              "      <th>17</th>\n",
              "      <td>NGC7331</td>\n",
              "      <td>1.100</td>\n",
              "      <td>500</td>\n",
              "    </tr>\n",
              "    <tr>\n",
              "      <th>18</th>\n",
              "      <td>NGC4258</td>\n",
              "      <td>1.400</td>\n",
              "      <td>500</td>\n",
              "    </tr>\n",
              "    <tr>\n",
              "      <th>19</th>\n",
              "      <td>NGC4151</td>\n",
              "      <td>1.700</td>\n",
              "      <td>960</td>\n",
              "    </tr>\n",
              "    <tr>\n",
              "      <th>20</th>\n",
              "      <td>NGC4382</td>\n",
              "      <td>2.000</td>\n",
              "      <td>500</td>\n",
              "    </tr>\n",
              "    <tr>\n",
              "      <th>21</th>\n",
              "      <td>NGC4472</td>\n",
              "      <td>2.000</td>\n",
              "      <td>850</td>\n",
              "    </tr>\n",
              "    <tr>\n",
              "      <th>22</th>\n",
              "      <td>NGC4486</td>\n",
              "      <td>2.000</td>\n",
              "      <td>800</td>\n",
              "    </tr>\n",
              "    <tr>\n",
              "      <th>23</th>\n",
              "      <td>NGC4649</td>\n",
              "      <td>2.000</td>\n",
              "      <td>1090</td>\n",
              "    </tr>\n",
              "  </tbody>\n",
              "</table>\n",
              "</div>\n",
              "    <div class=\"colab-df-buttons\">\n",
              "\n",
              "  <div class=\"colab-df-container\">\n",
              "    <button class=\"colab-df-convert\" onclick=\"convertToInteractive('df-ad66e1b9-3f15-43dc-8174-67d578cbdcca')\"\n",
              "            title=\"Convert this dataframe to an interactive table.\"\n",
              "            style=\"display:none;\">\n",
              "\n",
              "  <svg xmlns=\"http://www.w3.org/2000/svg\" height=\"24px\" viewBox=\"0 -960 960 960\">\n",
              "    <path d=\"M120-120v-720h720v720H120Zm60-500h600v-160H180v160Zm220 220h160v-160H400v160Zm0 220h160v-160H400v160ZM180-400h160v-160H180v160Zm440 0h160v-160H620v160ZM180-180h160v-160H180v160Zm440 0h160v-160H620v160Z\"/>\n",
              "  </svg>\n",
              "    </button>\n",
              "\n",
              "  <style>\n",
              "    .colab-df-container {\n",
              "      display:flex;\n",
              "      gap: 12px;\n",
              "    }\n",
              "\n",
              "    .colab-df-convert {\n",
              "      background-color: #E8F0FE;\n",
              "      border: none;\n",
              "      border-radius: 50%;\n",
              "      cursor: pointer;\n",
              "      display: none;\n",
              "      fill: #1967D2;\n",
              "      height: 32px;\n",
              "      padding: 0 0 0 0;\n",
              "      width: 32px;\n",
              "    }\n",
              "\n",
              "    .colab-df-convert:hover {\n",
              "      background-color: #E2EBFA;\n",
              "      box-shadow: 0px 1px 2px rgba(60, 64, 67, 0.3), 0px 1px 3px 1px rgba(60, 64, 67, 0.15);\n",
              "      fill: #174EA6;\n",
              "    }\n",
              "\n",
              "    .colab-df-buttons div {\n",
              "      margin-bottom: 4px;\n",
              "    }\n",
              "\n",
              "    [theme=dark] .colab-df-convert {\n",
              "      background-color: #3B4455;\n",
              "      fill: #D2E3FC;\n",
              "    }\n",
              "\n",
              "    [theme=dark] .colab-df-convert:hover {\n",
              "      background-color: #434B5C;\n",
              "      box-shadow: 0px 1px 3px 1px rgba(0, 0, 0, 0.15);\n",
              "      filter: drop-shadow(0px 1px 2px rgba(0, 0, 0, 0.3));\n",
              "      fill: #FFFFFF;\n",
              "    }\n",
              "  </style>\n",
              "\n",
              "    <script>\n",
              "      const buttonEl =\n",
              "        document.querySelector('#df-ad66e1b9-3f15-43dc-8174-67d578cbdcca button.colab-df-convert');\n",
              "      buttonEl.style.display =\n",
              "        google.colab.kernel.accessAllowed ? 'block' : 'none';\n",
              "\n",
              "      async function convertToInteractive(key) {\n",
              "        const element = document.querySelector('#df-ad66e1b9-3f15-43dc-8174-67d578cbdcca');\n",
              "        const dataTable =\n",
              "          await google.colab.kernel.invokeFunction('convertToInteractive',\n",
              "                                                    [key], {});\n",
              "        if (!dataTable) return;\n",
              "\n",
              "        const docLinkHtml = 'Like what you see? Visit the ' +\n",
              "          '<a target=\"_blank\" href=https://colab.research.google.com/notebooks/data_table.ipynb>data table notebook</a>'\n",
              "          + ' to learn more about interactive tables.';\n",
              "        element.innerHTML = '';\n",
              "        dataTable['output_type'] = 'display_data';\n",
              "        await google.colab.output.renderOutput(dataTable, element);\n",
              "        const docLink = document.createElement('div');\n",
              "        docLink.innerHTML = docLinkHtml;\n",
              "        element.appendChild(docLink);\n",
              "      }\n",
              "    </script>\n",
              "  </div>\n",
              "\n",
              "\n",
              "<div id=\"df-6fba3ea0-1104-4aaf-ba06-356c3b8742a2\">\n",
              "  <button class=\"colab-df-quickchart\" onclick=\"quickchart('df-6fba3ea0-1104-4aaf-ba06-356c3b8742a2')\"\n",
              "            title=\"Suggest charts\"\n",
              "            style=\"display:none;\">\n",
              "\n",
              "<svg xmlns=\"http://www.w3.org/2000/svg\" height=\"24px\"viewBox=\"0 0 24 24\"\n",
              "     width=\"24px\">\n",
              "    <g>\n",
              "        <path d=\"M19 3H5c-1.1 0-2 .9-2 2v14c0 1.1.9 2 2 2h14c1.1 0 2-.9 2-2V5c0-1.1-.9-2-2-2zM9 17H7v-7h2v7zm4 0h-2V7h2v10zm4 0h-2v-4h2v4z\"/>\n",
              "    </g>\n",
              "</svg>\n",
              "  </button>\n",
              "\n",
              "<style>\n",
              "  .colab-df-quickchart {\n",
              "      --bg-color: #E8F0FE;\n",
              "      --fill-color: #1967D2;\n",
              "      --hover-bg-color: #E2EBFA;\n",
              "      --hover-fill-color: #174EA6;\n",
              "      --disabled-fill-color: #AAA;\n",
              "      --disabled-bg-color: #DDD;\n",
              "  }\n",
              "\n",
              "  [theme=dark] .colab-df-quickchart {\n",
              "      --bg-color: #3B4455;\n",
              "      --fill-color: #D2E3FC;\n",
              "      --hover-bg-color: #434B5C;\n",
              "      --hover-fill-color: #FFFFFF;\n",
              "      --disabled-bg-color: #3B4455;\n",
              "      --disabled-fill-color: #666;\n",
              "  }\n",
              "\n",
              "  .colab-df-quickchart {\n",
              "    background-color: var(--bg-color);\n",
              "    border: none;\n",
              "    border-radius: 50%;\n",
              "    cursor: pointer;\n",
              "    display: none;\n",
              "    fill: var(--fill-color);\n",
              "    height: 32px;\n",
              "    padding: 0;\n",
              "    width: 32px;\n",
              "  }\n",
              "\n",
              "  .colab-df-quickchart:hover {\n",
              "    background-color: var(--hover-bg-color);\n",
              "    box-shadow: 0 1px 2px rgba(60, 64, 67, 0.3), 0 1px 3px 1px rgba(60, 64, 67, 0.15);\n",
              "    fill: var(--button-hover-fill-color);\n",
              "  }\n",
              "\n",
              "  .colab-df-quickchart-complete:disabled,\n",
              "  .colab-df-quickchart-complete:disabled:hover {\n",
              "    background-color: var(--disabled-bg-color);\n",
              "    fill: var(--disabled-fill-color);\n",
              "    box-shadow: none;\n",
              "  }\n",
              "\n",
              "  .colab-df-spinner {\n",
              "    border: 2px solid var(--fill-color);\n",
              "    border-color: transparent;\n",
              "    border-bottom-color: var(--fill-color);\n",
              "    animation:\n",
              "      spin 1s steps(1) infinite;\n",
              "  }\n",
              "\n",
              "  @keyframes spin {\n",
              "    0% {\n",
              "      border-color: transparent;\n",
              "      border-bottom-color: var(--fill-color);\n",
              "      border-left-color: var(--fill-color);\n",
              "    }\n",
              "    20% {\n",
              "      border-color: transparent;\n",
              "      border-left-color: var(--fill-color);\n",
              "      border-top-color: var(--fill-color);\n",
              "    }\n",
              "    30% {\n",
              "      border-color: transparent;\n",
              "      border-left-color: var(--fill-color);\n",
              "      border-top-color: var(--fill-color);\n",
              "      border-right-color: var(--fill-color);\n",
              "    }\n",
              "    40% {\n",
              "      border-color: transparent;\n",
              "      border-right-color: var(--fill-color);\n",
              "      border-top-color: var(--fill-color);\n",
              "    }\n",
              "    60% {\n",
              "      border-color: transparent;\n",
              "      border-right-color: var(--fill-color);\n",
              "    }\n",
              "    80% {\n",
              "      border-color: transparent;\n",
              "      border-right-color: var(--fill-color);\n",
              "      border-bottom-color: var(--fill-color);\n",
              "    }\n",
              "    90% {\n",
              "      border-color: transparent;\n",
              "      border-bottom-color: var(--fill-color);\n",
              "    }\n",
              "  }\n",
              "</style>\n",
              "\n",
              "  <script>\n",
              "    async function quickchart(key) {\n",
              "      const quickchartButtonEl =\n",
              "        document.querySelector('#' + key + ' button');\n",
              "      quickchartButtonEl.disabled = true;  // To prevent multiple clicks.\n",
              "      quickchartButtonEl.classList.add('colab-df-spinner');\n",
              "      try {\n",
              "        const charts = await google.colab.kernel.invokeFunction(\n",
              "            'suggestCharts', [key], {});\n",
              "      } catch (error) {\n",
              "        console.error('Error during call to suggestCharts:', error);\n",
              "      }\n",
              "      quickchartButtonEl.classList.remove('colab-df-spinner');\n",
              "      quickchartButtonEl.classList.add('colab-df-quickchart-complete');\n",
              "    }\n",
              "    (() => {\n",
              "      let quickchartButtonEl =\n",
              "        document.querySelector('#df-6fba3ea0-1104-4aaf-ba06-356c3b8742a2 button');\n",
              "      quickchartButtonEl.style.display =\n",
              "        google.colab.kernel.accessAllowed ? 'block' : 'none';\n",
              "    })();\n",
              "  </script>\n",
              "</div>\n",
              "    </div>\n",
              "  </div>\n"
            ],
            "application/vnd.google.colaboratory.intrinsic+json": {
              "type": "dataframe",
              "variable_name": "dat",
              "summary": "{\n  \"name\": \"dat\",\n  \"rows\": 24,\n  \"fields\": [\n    {\n      \"column\": \"Galaxy name\",\n      \"properties\": {\n        \"dtype\": \"string\",\n        \"num_unique_values\": 24,\n        \"samples\": [\n          \"NGC5194\",\n          \"NGC5055\",\n          \"S.Mag\"\n        ],\n        \"semantic_type\": \"\",\n        \"description\": \"\"\n      }\n    },\n    {\n      \"column\": \"Distance [Mpc]\",\n      \"properties\": {\n        \"dtype\": \"number\",\n        \"std\": 0.6454957523519018,\n        \"min\": 0.032,\n        \"max\": 2.0,\n        \"num_unique_values\": 15,\n        \"samples\": [\n          0.9,\n          1.1,\n          0.032\n        ],\n        \"semantic_type\": \"\",\n        \"description\": \"\"\n      }\n    },\n    {\n      \"column\": \"Velocity [km/s]\",\n      \"properties\": {\n        \"dtype\": \"number\",\n        \"std\": 371,\n        \"min\": -220,\n        \"max\": 1090,\n        \"num_unique_values\": 19,\n        \"samples\": [\n          170,\n          -220,\n          150\n        ],\n        \"semantic_type\": \"\",\n        \"description\": \"\"\n      }\n    }\n  ]\n}"
            }
          },
          "metadata": {},
          "execution_count": 16
        }
      ],
      "source": [
        "dat = pd.read_csv(hub, sep='\\s+', comment='#', names=['Galaxy name', 'Distance [Mpc]', 'Velocity [km/s]'])\n",
        "dat"
      ]
    },
    {
      "cell_type": "markdown",
      "metadata": {
        "id": "kEmencDqzO8Q"
      },
      "source": [
        "Let's plot them."
      ]
    },
    {
      "cell_type": "code",
      "execution_count": 17,
      "metadata": {
        "tags": [],
        "id": "5AYbmR5xzO8Q"
      },
      "outputs": [],
      "source": [
        "fig = plt.figure(figsize=(10, 7.5))\n",
        "ax  = fig.add_subplot(1, 1, 1)\n",
        "plt.close()"
      ]
    },
    {
      "cell_type": "code",
      "execution_count": 18,
      "metadata": {
        "tags": [],
        "id": "Hukl41OszO8Q"
      },
      "outputs": [],
      "source": [
        "label_style = {'fontname': 'Georgia', 'fontsize': 16}"
      ]
    },
    {
      "cell_type": "code",
      "execution_count": 19,
      "metadata": {
        "tags": [],
        "colab": {
          "base_uri": "https://localhost:8080/",
          "height": 34
        },
        "id": "j_I6xONEzO8R",
        "outputId": "2989af0d-0f5b-4b1e-8f7d-bfad4319ac52"
      },
      "outputs": [
        {
          "output_type": "display_data",
          "data": {
            "text/plain": [
              "<Figure size 664.176x410.483 with 0 Axes>"
            ]
          },
          "metadata": {}
        }
      ],
      "source": [
        "ax.plot(dat['Distance [Mpc]'], dat['Velocity [km/s]'], '-', c='k', marker='*', lw=0)\n",
        "\n",
        "ax.set_xlabel('Distance from us [Megaparsecs]', **label_style)\n",
        "ax.set_ylabel('Recession velocity [km/s]', **label_style)\n",
        "\n",
        "plt.tight_layout()"
      ]
    },
    {
      "cell_type": "code",
      "execution_count": 20,
      "metadata": {
        "tags": [],
        "colab": {
          "base_uri": "https://localhost:8080/",
          "height": 1000
        },
        "id": "OR27XFxxzO8R",
        "outputId": "57210dc3-15ab-494c-d2cb-9abaf69b66e6"
      },
      "outputs": [
        {
          "output_type": "stream",
          "name": "stderr",
          "text": [
            "WARNING:matplotlib.font_manager:findfont: Generic family 'serif' not found because none of the following families were found: Times New Roman\n",
            "WARNING:matplotlib.font_manager:findfont: Generic family 'serif' not found because none of the following families were found: Times New Roman\n",
            "WARNING:matplotlib.font_manager:findfont: Generic family 'serif' not found because none of the following families were found: Times New Roman\n",
            "WARNING:matplotlib.font_manager:findfont: Generic family 'serif' not found because none of the following families were found: Times New Roman\n",
            "WARNING:matplotlib.font_manager:findfont: Generic family 'serif' not found because none of the following families were found: Times New Roman\n",
            "WARNING:matplotlib.font_manager:findfont: Generic family 'serif' not found because none of the following families were found: Times New Roman\n",
            "WARNING:matplotlib.font_manager:findfont: Generic family 'serif' not found because none of the following families were found: Times New Roman\n",
            "WARNING:matplotlib.font_manager:findfont: Generic family 'serif' not found because none of the following families were found: Times New Roman\n",
            "WARNING:matplotlib.font_manager:findfont: Generic family 'serif' not found because none of the following families were found: Times New Roman\n",
            "WARNING:matplotlib.font_manager:findfont: Generic family 'serif' not found because none of the following families were found: Times New Roman\n",
            "WARNING:matplotlib.font_manager:findfont: Font family 'Georgia' not found.\n",
            "WARNING:matplotlib.font_manager:findfont: Font family 'Georgia' not found.\n",
            "WARNING:matplotlib.font_manager:findfont: Generic family 'serif' not found because none of the following families were found: Times New Roman\n",
            "WARNING:matplotlib.font_manager:findfont: Generic family 'serif' not found because none of the following families were found: Times New Roman\n",
            "WARNING:matplotlib.font_manager:findfont: Generic family 'serif' not found because none of the following families were found: Times New Roman\n",
            "WARNING:matplotlib.font_manager:findfont: Generic family 'serif' not found because none of the following families were found: Times New Roman\n",
            "WARNING:matplotlib.font_manager:findfont: Generic family 'serif' not found because none of the following families were found: Times New Roman\n",
            "WARNING:matplotlib.font_manager:findfont: Generic family 'serif' not found because none of the following families were found: Times New Roman\n",
            "WARNING:matplotlib.font_manager:findfont: Generic family 'serif' not found because none of the following families were found: Times New Roman\n",
            "WARNING:matplotlib.font_manager:findfont: Font family 'Georgia' not found.\n",
            "WARNING:matplotlib.font_manager:findfont: Generic family 'serif' not found because none of the following families were found: Times New Roman\n",
            "WARNING:matplotlib.font_manager:findfont: Generic family 'serif' not found because none of the following families were found: Times New Roman\n",
            "WARNING:matplotlib.font_manager:findfont: Generic family 'serif' not found because none of the following families were found: Times New Roman\n",
            "WARNING:matplotlib.font_manager:findfont: Generic family 'serif' not found because none of the following families were found: Times New Roman\n",
            "WARNING:matplotlib.font_manager:findfont: Generic family 'serif' not found because none of the following families were found: Times New Roman\n",
            "WARNING:matplotlib.font_manager:findfont: Generic family 'serif' not found because none of the following families were found: Times New Roman\n",
            "WARNING:matplotlib.font_manager:findfont: Generic family 'serif' not found because none of the following families were found: Times New Roman\n",
            "WARNING:matplotlib.font_manager:findfont: Generic family 'serif' not found because none of the following families were found: Times New Roman\n",
            "WARNING:matplotlib.font_manager:findfont: Generic family 'serif' not found because none of the following families were found: Times New Roman\n",
            "WARNING:matplotlib.font_manager:findfont: Generic family 'serif' not found because none of the following families were found: Times New Roman\n",
            "WARNING:matplotlib.font_manager:findfont: Generic family 'serif' not found because none of the following families were found: Times New Roman\n",
            "WARNING:matplotlib.font_manager:findfont: Generic family 'serif' not found because none of the following families were found: Times New Roman\n",
            "WARNING:matplotlib.font_manager:findfont: Generic family 'serif' not found because none of the following families were found: Times New Roman\n",
            "WARNING:matplotlib.font_manager:findfont: Generic family 'serif' not found because none of the following families were found: Times New Roman\n",
            "WARNING:matplotlib.font_manager:findfont: Generic family 'serif' not found because none of the following families were found: Times New Roman\n",
            "WARNING:matplotlib.font_manager:findfont: Generic family 'serif' not found because none of the following families were found: Times New Roman\n",
            "WARNING:matplotlib.font_manager:findfont: Generic family 'serif' not found because none of the following families were found: Times New Roman\n",
            "WARNING:matplotlib.font_manager:findfont: Generic family 'serif' not found because none of the following families were found: Times New Roman\n",
            "WARNING:matplotlib.font_manager:findfont: Generic family 'serif' not found because none of the following families were found: Times New Roman\n",
            "WARNING:matplotlib.font_manager:findfont: Font family 'Georgia' not found.\n",
            "WARNING:matplotlib.font_manager:findfont: Font family 'Georgia' not found.\n",
            "WARNING:matplotlib.font_manager:findfont: Font family 'Georgia' not found.\n",
            "WARNING:matplotlib.font_manager:findfont: Generic family 'serif' not found because none of the following families were found: Times New Roman\n",
            "WARNING:matplotlib.font_manager:findfont: Generic family 'serif' not found because none of the following families were found: Times New Roman\n",
            "WARNING:matplotlib.font_manager:findfont: Generic family 'serif' not found because none of the following families were found: Times New Roman\n",
            "WARNING:matplotlib.font_manager:findfont: Generic family 'serif' not found because none of the following families were found: Times New Roman\n",
            "WARNING:matplotlib.font_manager:findfont: Generic family 'serif' not found because none of the following families were found: Times New Roman\n",
            "WARNING:matplotlib.font_manager:findfont: Generic family 'serif' not found because none of the following families were found: Times New Roman\n",
            "WARNING:matplotlib.font_manager:findfont: Generic family 'serif' not found because none of the following families were found: Times New Roman\n",
            "WARNING:matplotlib.font_manager:findfont: Generic family 'serif' not found because none of the following families were found: Times New Roman\n",
            "WARNING:matplotlib.font_manager:findfont: Generic family 'serif' not found because none of the following families were found: Times New Roman\n",
            "WARNING:matplotlib.font_manager:findfont: Generic family 'serif' not found because none of the following families were found: Times New Roman\n",
            "WARNING:matplotlib.font_manager:findfont: Generic family 'serif' not found because none of the following families were found: Times New Roman\n",
            "WARNING:matplotlib.font_manager:findfont: Generic family 'serif' not found because none of the following families were found: Times New Roman\n",
            "WARNING:matplotlib.font_manager:findfont: Generic family 'serif' not found because none of the following families were found: Times New Roman\n",
            "WARNING:matplotlib.font_manager:findfont: Generic family 'serif' not found because none of the following families were found: Times New Roman\n",
            "WARNING:matplotlib.font_manager:findfont: Font family 'Georgia' not found.\n",
            "WARNING:matplotlib.font_manager:findfont: Font family 'Georgia' not found.\n"
          ]
        },
        {
          "output_type": "execute_result",
          "data": {
            "text/plain": [
              "<Figure size 1000x750 with 1 Axes>"
            ],
            "image/png": "[encoded data removed]"
          },
          "metadata": {},
          "execution_count": 20
        }
      ],
      "source": [
        "fig"
      ]
    },
    {
      "cell_type": "markdown",
      "metadata": {
        "id": "W2xK376fzO8R"
      },
      "source": [
        "Edwin saw a clear trend, but the measurements seemed pretty noisy.  Let's figure out our best guess at the true relationship between the two.  We'll look at a linear relationship (regression) using the scipy stats package:"
      ]
    },
    {
      "cell_type": "code",
      "execution_count": 21,
      "metadata": {
        "tags": [],
        "id": "6W3Mss73zO8R"
      },
      "outputs": [],
      "source": [
        "slope, intercept, r_value, p_value, std_err = stats.linregress(dat['Distance [Mpc]'],dat['Velocity [km/s]'])"
      ]
    },
    {
      "cell_type": "code",
      "execution_count": 22,
      "metadata": {
        "tags": [],
        "colab": {
          "base_uri": "https://localhost:8080/"
        },
        "id": "skmsyARHzO8S",
        "outputId": "e5d60ff3-75a1-4216-b876-5e930bf055e7"
      },
      "outputs": [
        {
          "output_type": "stream",
          "name": "stdout",
          "text": [
            "The gradient to this trend is known as the Hubble constant:  454.158 [km/s/Mpc]\n"
          ]
        }
      ],
      "source": [
        "print('The gradient to this trend is known as the Hubble constant:  {:.3f} [km/s/Mpc]'.format(slope))"
      ]
    },
    {
      "cell_type": "markdown",
      "metadata": {
        "id": "s4-oDJ_PzO8S"
      },
      "source": [
        "Let's see what that looks like."
      ]
    },
    {
      "cell_type": "code",
      "execution_count": 23,
      "metadata": {
        "tags": [],
        "colab": {
          "base_uri": "https://localhost:8080/"
        },
        "id": "ILBkXSSTzO8S",
        "outputId": "b0414d72-0179-477a-f6c7-6b5fd0df3f59"
      },
      "outputs": [
        {
          "output_type": "execute_result",
          "data": {
            "text/plain": [
              "(0.0, 2.5)"
            ]
          },
          "metadata": {},
          "execution_count": 23
        }
      ],
      "source": [
        "distances  = np.linspace(-0.5, 2.5, 10)\n",
        "velocities = slope * distances\n",
        "\n",
        "ax.plot(distances, velocities, lw=0.25, c='k')\n",
        "ax.set_xlim(0.0, 2.5)"
      ]
    },
    {
      "cell_type": "code",
      "execution_count": 24,
      "metadata": {
        "tags": [],
        "colab": {
          "base_uri": "https://localhost:8080/",
          "height": 1000
        },
        "id": "XB4BaovKzO8T",
        "outputId": "5f4af2ce-9af1-40bf-b0dc-aa5c4b6e2436"
      },
      "outputs": [
        {
          "output_type": "stream",
          "name": "stderr",
          "text": [
            "WARNING:matplotlib.font_manager:findfont: Generic family 'serif' not found because none of the following families were found: Times New Roman\n",
            "WARNING:matplotlib.font_manager:findfont: Generic family 'serif' not found because none of the following families were found: Times New Roman\n",
            "WARNING:matplotlib.font_manager:findfont: Generic family 'serif' not found because none of the following families were found: Times New Roman\n",
            "WARNING:matplotlib.font_manager:findfont: Generic family 'serif' not found because none of the following families were found: Times New Roman\n",
            "WARNING:matplotlib.font_manager:findfont: Generic family 'serif' not found because none of the following families were found: Times New Roman\n",
            "WARNING:matplotlib.font_manager:findfont: Generic family 'serif' not found because none of the following families were found: Times New Roman\n",
            "WARNING:matplotlib.font_manager:findfont: Generic family 'serif' not found because none of the following families were found: Times New Roman\n",
            "WARNING:matplotlib.font_manager:findfont: Font family 'Georgia' not found.\n",
            "WARNING:matplotlib.font_manager:findfont: Font family 'Georgia' not found.\n",
            "WARNING:matplotlib.font_manager:findfont: Generic family 'serif' not found because none of the following families were found: Times New Roman\n",
            "WARNING:matplotlib.font_manager:findfont: Generic family 'serif' not found because none of the following families were found: Times New Roman\n",
            "WARNING:matplotlib.font_manager:findfont: Generic family 'serif' not found because none of the following families were found: Times New Roman\n",
            "WARNING:matplotlib.font_manager:findfont: Generic family 'serif' not found because none of the following families were found: Times New Roman\n",
            "WARNING:matplotlib.font_manager:findfont: Generic family 'serif' not found because none of the following families were found: Times New Roman\n",
            "WARNING:matplotlib.font_manager:findfont: Generic family 'serif' not found because none of the following families were found: Times New Roman\n",
            "WARNING:matplotlib.font_manager:findfont: Generic family 'serif' not found because none of the following families were found: Times New Roman\n",
            "WARNING:matplotlib.font_manager:findfont: Generic family 'serif' not found because none of the following families were found: Times New Roman\n",
            "WARNING:matplotlib.font_manager:findfont: Font family 'Georgia' not found.\n",
            "WARNING:matplotlib.font_manager:findfont: Generic family 'serif' not found because none of the following families were found: Times New Roman\n",
            "WARNING:matplotlib.font_manager:findfont: Generic family 'serif' not found because none of the following families were found: Times New Roman\n",
            "WARNING:matplotlib.font_manager:findfont: Generic family 'serif' not found because none of the following families were found: Times New Roman\n",
            "WARNING:matplotlib.font_manager:findfont: Generic family 'serif' not found because none of the following families were found: Times New Roman\n",
            "WARNING:matplotlib.font_manager:findfont: Generic family 'serif' not found because none of the following families were found: Times New Roman\n",
            "WARNING:matplotlib.font_manager:findfont: Generic family 'serif' not found because none of the following families were found: Times New Roman\n",
            "WARNING:matplotlib.font_manager:findfont: Generic family 'serif' not found because none of the following families were found: Times New Roman\n",
            "WARNING:matplotlib.font_manager:findfont: Generic family 'serif' not found because none of the following families were found: Times New Roman\n",
            "WARNING:matplotlib.font_manager:findfont: Generic family 'serif' not found because none of the following families were found: Times New Roman\n",
            "WARNING:matplotlib.font_manager:findfont: Generic family 'serif' not found because none of the following families were found: Times New Roman\n",
            "WARNING:matplotlib.font_manager:findfont: Generic family 'serif' not found because none of the following families were found: Times New Roman\n",
            "WARNING:matplotlib.font_manager:findfont: Generic family 'serif' not found because none of the following families were found: Times New Roman\n",
            "WARNING:matplotlib.font_manager:findfont: Generic family 'serif' not found because none of the following families were found: Times New Roman\n",
            "WARNING:matplotlib.font_manager:findfont: Font family 'Georgia' not found.\n",
            "WARNING:matplotlib.font_manager:findfont: Font family 'Georgia' not found.\n",
            "WARNING:matplotlib.font_manager:findfont: Font family 'Georgia' not found.\n",
            "WARNING:matplotlib.font_manager:findfont: Generic family 'serif' not found because none of the following families were found: Times New Roman\n",
            "WARNING:matplotlib.font_manager:findfont: Generic family 'serif' not found because none of the following families were found: Times New Roman\n",
            "WARNING:matplotlib.font_manager:findfont: Generic family 'serif' not found because none of the following families were found: Times New Roman\n",
            "WARNING:matplotlib.font_manager:findfont: Generic family 'serif' not found because none of the following families were found: Times New Roman\n",
            "WARNING:matplotlib.font_manager:findfont: Generic family 'serif' not found because none of the following families were found: Times New Roman\n",
            "WARNING:matplotlib.font_manager:findfont: Generic family 'serif' not found because none of the following families were found: Times New Roman\n",
            "WARNING:matplotlib.font_manager:findfont: Generic family 'serif' not found because none of the following families were found: Times New Roman\n",
            "WARNING:matplotlib.font_manager:findfont: Generic family 'serif' not found because none of the following families were found: Times New Roman\n",
            "WARNING:matplotlib.font_manager:findfont: Generic family 'serif' not found because none of the following families were found: Times New Roman\n",
            "WARNING:matplotlib.font_manager:findfont: Generic family 'serif' not found because none of the following families were found: Times New Roman\n",
            "WARNING:matplotlib.font_manager:findfont: Generic family 'serif' not found because none of the following families were found: Times New Roman\n",
            "WARNING:matplotlib.font_manager:findfont: Generic family 'serif' not found because none of the following families were found: Times New Roman\n",
            "WARNING:matplotlib.font_manager:findfont: Generic family 'serif' not found because none of the following families were found: Times New Roman\n",
            "WARNING:matplotlib.font_manager:findfont: Generic family 'serif' not found because none of the following families were found: Times New Roman\n",
            "WARNING:matplotlib.font_manager:findfont: Generic family 'serif' not found because none of the following families were found: Times New Roman\n",
            "WARNING:matplotlib.font_manager:findfont: Generic family 'serif' not found because none of the following families were found: Times New Roman\n",
            "WARNING:matplotlib.font_manager:findfont: Font family 'Georgia' not found.\n",
            "WARNING:matplotlib.font_manager:findfont: Font family 'Georgia' not found.\n"
          ]
        },
        {
          "output_type": "execute_result",
          "data": {
            "text/plain": [
              "<Figure size 1000x750 with 1 Axes>"
            ],
            "image/png": "[encoded data removed]"
          },
          "metadata": {},
          "execution_count": 24
        }
      ],
      "source": [
        "fig"
      ]
    },
    {
      "cell_type": "markdown",
      "metadata": {
        "id": "oEcJfIwqzO8T"
      },
      "source": [
        "Seems a pretty good fit!"
      ]
    },
    {
      "cell_type": "markdown",
      "metadata": {
        "id": "Melnqy8xzO8T"
      },
      "source": [
        "Now it's your turn, can you figure out a good estimate of the error on this measurement of the Hubble costant.  How accurately can we predict the recession of a galaxy at a given distance, i.e. how fast or slow could it be moving?    "
      ]
    },
    {
      "cell_type": "markdown",
      "metadata": {
        "id": "dX8WnFbyzO8Z"
      },
      "source": [
        "So in conclusion, every galaxy is likely to be moving away from us!  We find this to be true of all galaxies - we are not at center or special in any way.  Every galaxy is moving away from every other.  The fact that the Universe was expanding came as a shock to many in 1929, but an even greater surprise was in store.    "
      ]
    },
    {
      "cell_type": "markdown",
      "metadata": {
        "id": "Xcb-OAHfzO8a"
      },
      "source": [
        "# *Dark Energy*"
      ]
    },
    {
      "cell_type": "markdown",
      "metadata": {
        "id": "7c-jJlv2zO8a"
      },
      "source": [
        "In 1998, the world would change forever.  Larry Page and Sergey Brin founded Google, the American Unity node and Russian Zarya module would be brought together to form the [International Space Station](https://en.wikipedia.org/wiki/International_Space_Station), and Lawrence Berkeley Lab's\n",
        "very own Saul Perlmutter, Brian Schmidt and Adam Reiss irrefutably confirmed the existence of _Dark Energy_. Here's Saul impressing some young Berkeley researchers with these results at the time:"
      ]
    },
    {
      "cell_type": "markdown",
      "metadata": {
        "id": "gPxVRfagzO8a"
      },
      "source": [
        "![title](https://github.com/DESIHIGH/desihigh/blob/main/desihigh/images/perlmutter.png?raw=1)"
      ]
    },
    {
      "cell_type": "markdown",
      "metadata": {
        "id": "TmhOEZdXzO8a"
      },
      "source": [
        "So what was everyone looking at?  Let's breakdown the data."
      ]
    },
    {
      "cell_type": "markdown",
      "metadata": {
        "id": "9nWPSZmjzO8b"
      },
      "source": [
        "Saul and his team measured the redshift ($z$) and the effective magnitude for several Type Ia Supernovae (https://en.wikipedia.org/wiki/Type_Ia_supernova)"
      ]
    },
    {
      "cell_type": "code",
      "execution_count": 25,
      "metadata": {
        "tags": [],
        "id": "lsw_-XpfzO8b"
      },
      "outputs": [],
      "source": [
        "perl    = resource_filename('desihigh', 'dat/perlmutter.txt')"
      ]
    },
    {
      "cell_type": "code",
      "execution_count": 26,
      "metadata": {
        "tags": [],
        "colab": {
          "base_uri": "https://localhost:8080/",
          "height": 363
        },
        "id": "8tRAgvNJzO8c",
        "outputId": "28d41e49-6d08-48d7-ba68-819109e1d205"
      },
      "outputs": [
        {
          "output_type": "execute_result",
          "data": {
            "text/plain": [
              "       z  Effective magnitude\n",
              "0  0.458                23.11\n",
              "1  0.354                22.38\n",
              "2  0.425                22.13\n",
              "3  0.374                21.72\n",
              "4  0.420                22.55\n",
              "5  0.372                22.26\n",
              "6  0.378                22.58\n",
              "7  0.453                23.17\n",
              "8  0.465                23.33\n",
              "9  0.498                23.71"
            ],
            "text/html": [
              "\n",
              "  <div id=\"df-84b919c0-ff62-46d2-b0ad-250c157b5513\" class=\"colab-df-container\">\n",
              "    <div>\n",
              "<style scoped>\n",
              "    .dataframe tbody tr th:only-of-type {\n",
              "        vertical-align: middle;\n",
              "    }\n",
              "\n",
              "    .dataframe tbody tr th {\n",
              "        vertical-align: top;\n",
              "    }\n",
              "\n",
              "    .dataframe thead th {\n",
              "        text-align: right;\n",
              "    }\n",
              "</style>\n",
              "<table border=\"1\" class=\"dataframe\">\n",
              "  <thead>\n",
              "    <tr style=\"text-align: right;\">\n",
              "      <th></th>\n",
              "      <th>z</th>\n",
              "      <th>Effective magnitude</th>\n",
              "    </tr>\n",
              "  </thead>\n",
              "  <tbody>\n",
              "    <tr>\n",
              "      <th>0</th>\n",
              "      <td>0.458</td>\n",
              "      <td>23.11</td>\n",
              "    </tr>\n",
              "    <tr>\n",
              "      <th>1</th>\n",
              "      <td>0.354</td>\n",
              "      <td>22.38</td>\n",
              "    </tr>\n",
              "    <tr>\n",
              "      <th>2</th>\n",
              "      <td>0.425</td>\n",
              "      <td>22.13</td>\n",
              "    </tr>\n",
              "    <tr>\n",
              "      <th>3</th>\n",
              "      <td>0.374</td>\n",
              "      <td>21.72</td>\n",
              "    </tr>\n",
              "    <tr>\n",
              "      <th>4</th>\n",
              "      <td>0.420</td>\n",
              "      <td>22.55</td>\n",
              "    </tr>\n",
              "    <tr>\n",
              "      <th>5</th>\n",
              "      <td>0.372</td>\n",
              "      <td>22.26</td>\n",
              "    </tr>\n",
              "    <tr>\n",
              "      <th>6</th>\n",
              "      <td>0.378</td>\n",
              "      <td>22.58</td>\n",
              "    </tr>\n",
              "    <tr>\n",
              "      <th>7</th>\n",
              "      <td>0.453</td>\n",
              "      <td>23.17</td>\n",
              "    </tr>\n",
              "    <tr>\n",
              "      <th>8</th>\n",
              "      <td>0.465</td>\n",
              "      <td>23.33</td>\n",
              "    </tr>\n",
              "    <tr>\n",
              "      <th>9</th>\n",
              "      <td>0.498</td>\n",
              "      <td>23.71</td>\n",
              "    </tr>\n",
              "  </tbody>\n",
              "</table>\n",
              "</div>\n",
              "    <div class=\"colab-df-buttons\">\n",
              "\n",
              "  <div class=\"colab-df-container\">\n",
              "    <button class=\"colab-df-convert\" onclick=\"convertToInteractive('df-84b919c0-ff62-46d2-b0ad-250c157b5513')\"\n",
              "            title=\"Convert this dataframe to an interactive table.\"\n",
              "            style=\"display:none;\">\n",
              "\n",
              "  <svg xmlns=\"http://www.w3.org/2000/svg\" height=\"24px\" viewBox=\"0 -960 960 960\">\n",
              "    <path d=\"M120-120v-720h720v720H120Zm60-500h600v-160H180v160Zm220 220h160v-160H400v160Zm0 220h160v-160H400v160ZM180-400h160v-160H180v160Zm440 0h160v-160H620v160ZM180-180h160v-160H180v160Zm440 0h160v-160H620v160Z\"/>\n",
              "  </svg>\n",
              "    </button>\n",
              "\n",
              "  <style>\n",
              "    .colab-df-container {\n",
              "      display:flex;\n",
              "      gap: 12px;\n",
              "    }\n",
              "\n",
              "    .colab-df-convert {\n",
              "      background-color: #E8F0FE;\n",
              "      border: none;\n",
              "      border-radius: 50%;\n",
              "      cursor: pointer;\n",
              "      display: none;\n",
              "      fill: #1967D2;\n",
              "      height: 32px;\n",
              "      padding: 0 0 0 0;\n",
              "      width: 32px;\n",
              "    }\n",
              "\n",
              "    .colab-df-convert:hover {\n",
              "      background-color: #E2EBFA;\n",
              "      box-shadow: 0px 1px 2px rgba(60, 64, 67, 0.3), 0px 1px 3px 1px rgba(60, 64, 67, 0.15);\n",
              "      fill: #174EA6;\n",
              "    }\n",
              "\n",
              "    .colab-df-buttons div {\n",
              "      margin-bottom: 4px;\n",
              "    }\n",
              "\n",
              "    [theme=dark] .colab-df-convert {\n",
              "      background-color: #3B4455;\n",
              "      fill: #D2E3FC;\n",
              "    }\n",
              "\n",
              "    [theme=dark] .colab-df-convert:hover {\n",
              "      background-color: #434B5C;\n",
              "      box-shadow: 0px 1px 3px 1px rgba(0, 0, 0, 0.15);\n",
              "      filter: drop-shadow(0px 1px 2px rgba(0, 0, 0, 0.3));\n",
              "      fill: #FFFFFF;\n",
              "    }\n",
              "  </style>\n",
              "\n",
              "    <script>\n",
              "      const buttonEl =\n",
              "        document.querySelector('#df-84b919c0-ff62-46d2-b0ad-250c157b5513 button.colab-df-convert');\n",
              "      buttonEl.style.display =\n",
              "        google.colab.kernel.accessAllowed ? 'block' : 'none';\n",
              "\n",
              "      async function convertToInteractive(key) {\n",
              "        const element = document.querySelector('#df-84b919c0-ff62-46d2-b0ad-250c157b5513');\n",
              "        const dataTable =\n",
              "          await google.colab.kernel.invokeFunction('convertToInteractive',\n",
              "                                                    [key], {});\n",
              "        if (!dataTable) return;\n",
              "\n",
              "        const docLinkHtml = 'Like what you see? Visit the ' +\n",
              "          '<a target=\"_blank\" href=https://colab.research.google.com/notebooks/data_table.ipynb>data table notebook</a>'\n",
              "          + ' to learn more about interactive tables.';\n",
              "        element.innerHTML = '';\n",
              "        dataTable['output_type'] = 'display_data';\n",
              "        await google.colab.output.renderOutput(dataTable, element);\n",
              "        const docLink = document.createElement('div');\n",
              "        docLink.innerHTML = docLinkHtml;\n",
              "        element.appendChild(docLink);\n",
              "      }\n",
              "    </script>\n",
              "  </div>\n",
              "\n",
              "\n",
              "<div id=\"df-5f9ffc22-0ce1-47ae-b4fd-6ae328570509\">\n",
              "  <button class=\"colab-df-quickchart\" onclick=\"quickchart('df-5f9ffc22-0ce1-47ae-b4fd-6ae328570509')\"\n",
              "            title=\"Suggest charts\"\n",
              "            style=\"display:none;\">\n",
              "\n",
              "<svg xmlns=\"http://www.w3.org/2000/svg\" height=\"24px\"viewBox=\"0 0 24 24\"\n",
              "     width=\"24px\">\n",
              "    <g>\n",
              "        <path d=\"M19 3H5c-1.1 0-2 .9-2 2v14c0 1.1.9 2 2 2h14c1.1 0 2-.9 2-2V5c0-1.1-.9-2-2-2zM9 17H7v-7h2v7zm4 0h-2V7h2v10zm4 0h-2v-4h2v4z\"/>\n",
              "    </g>\n",
              "</svg>\n",
              "  </button>\n",
              "\n",
              "<style>\n",
              "  .colab-df-quickchart {\n",
              "      --bg-color: #E8F0FE;\n",
              "      --fill-color: #1967D2;\n",
              "      --hover-bg-color: #E2EBFA;\n",
              "      --hover-fill-color: #174EA6;\n",
              "      --disabled-fill-color: #AAA;\n",
              "      --disabled-bg-color: #DDD;\n",
              "  }\n",
              "\n",
              "  [theme=dark] .colab-df-quickchart {\n",
              "      --bg-color: #3B4455;\n",
              "      --fill-color: #D2E3FC;\n",
              "      --hover-bg-color: #434B5C;\n",
              "      --hover-fill-color: #FFFFFF;\n",
              "      --disabled-bg-color: #3B4455;\n",
              "      --disabled-fill-color: #666;\n",
              "  }\n",
              "\n",
              "  .colab-df-quickchart {\n",
              "    background-color: var(--bg-color);\n",
              "    border: none;\n",
              "    border-radius: 50%;\n",
              "    cursor: pointer;\n",
              "    display: none;\n",
              "    fill: var(--fill-color);\n",
              "    height: 32px;\n",
              "    padding: 0;\n",
              "    width: 32px;\n",
              "  }\n",
              "\n",
              "  .colab-df-quickchart:hover {\n",
              "    background-color: var(--hover-bg-color);\n",
              "    box-shadow: 0 1px 2px rgba(60, 64, 67, 0.3), 0 1px 3px 1px rgba(60, 64, 67, 0.15);\n",
              "    fill: var(--button-hover-fill-color);\n",
              "  }\n",
              "\n",
              "  .colab-df-quickchart-complete:disabled,\n",
              "  .colab-df-quickchart-complete:disabled:hover {\n",
              "    background-color: var(--disabled-bg-color);\n",
              "    fill: var(--disabled-fill-color);\n",
              "    box-shadow: none;\n",
              "  }\n",
              "\n",
              "  .colab-df-spinner {\n",
              "    border: 2px solid var(--fill-color);\n",
              "    border-color: transparent;\n",
              "    border-bottom-color: var(--fill-color);\n",
              "    animation:\n",
              "      spin 1s steps(1) infinite;\n",
              "  }\n",
              "\n",
              "  @keyframes spin {\n",
              "    0% {\n",
              "      border-color: transparent;\n",
              "      border-bottom-color: var(--fill-color);\n",
              "      border-left-color: var(--fill-color);\n",
              "    }\n",
              "    20% {\n",
              "      border-color: transparent;\n",
              "      border-left-color: var(--fill-color);\n",
              "      border-top-color: var(--fill-color);\n",
              "    }\n",
              "    30% {\n",
              "      border-color: transparent;\n",
              "      border-left-color: var(--fill-color);\n",
              "      border-top-color: var(--fill-color);\n",
              "      border-right-color: var(--fill-color);\n",
              "    }\n",
              "    40% {\n",
              "      border-color: transparent;\n",
              "      border-right-color: var(--fill-color);\n",
              "      border-top-color: var(--fill-color);\n",
              "    }\n",
              "    60% {\n",
              "      border-color: transparent;\n",
              "      border-right-color: var(--fill-color);\n",
              "    }\n",
              "    80% {\n",
              "      border-color: transparent;\n",
              "      border-right-color: var(--fill-color);\n",
              "      border-bottom-color: var(--fill-color);\n",
              "    }\n",
              "    90% {\n",
              "      border-color: transparent;\n",
              "      border-bottom-color: var(--fill-color);\n",
              "    }\n",
              "  }\n",
              "</style>\n",
              "\n",
              "  <script>\n",
              "    async function quickchart(key) {\n",
              "      const quickchartButtonEl =\n",
              "        document.querySelector('#' + key + ' button');\n",
              "      quickchartButtonEl.disabled = true;  // To prevent multiple clicks.\n",
              "      quickchartButtonEl.classList.add('colab-df-spinner');\n",
              "      try {\n",
              "        const charts = await google.colab.kernel.invokeFunction(\n",
              "            'suggestCharts', [key], {});\n",
              "      } catch (error) {\n",
              "        console.error('Error during call to suggestCharts:', error);\n",
              "      }\n",
              "      quickchartButtonEl.classList.remove('colab-df-spinner');\n",
              "      quickchartButtonEl.classList.add('colab-df-quickchart-complete');\n",
              "    }\n",
              "    (() => {\n",
              "      let quickchartButtonEl =\n",
              "        document.querySelector('#df-5f9ffc22-0ce1-47ae-b4fd-6ae328570509 button');\n",
              "      quickchartButtonEl.style.display =\n",
              "        google.colab.kernel.accessAllowed ? 'block' : 'none';\n",
              "    })();\n",
              "  </script>\n",
              "</div>\n",
              "    </div>\n",
              "  </div>\n"
            ],
            "application/vnd.google.colaboratory.intrinsic+json": {
              "type": "dataframe",
              "variable_name": "toprint",
              "summary": "{\n  \"name\": \"toprint\",\n  \"rows\": 10,\n  \"fields\": [\n    {\n      \"column\": \"z\",\n      \"properties\": {\n        \"dtype\": \"number\",\n        \"std\": 0.04854104792166455,\n        \"min\": 0.354,\n        \"max\": 0.498,\n        \"num_unique_values\": 10,\n        \"samples\": [\n          0.465,\n          0.354,\n          0.372\n        ],\n        \"semantic_type\": \"\",\n        \"description\": \"\"\n      }\n    },\n    {\n      \"column\": \"Effective magnitude\",\n      \"properties\": {\n        \"dtype\": \"number\",\n        \"std\": 0.6167873755733552,\n        \"min\": 21.72,\n        \"max\": 23.71,\n        \"num_unique_values\": 10,\n        \"samples\": [\n          23.33,\n          22.38,\n          22.26\n        ],\n        \"semantic_type\": \"\",\n        \"description\": \"\"\n      }\n    }\n  ]\n}"
            }
          },
          "metadata": {},
          "execution_count": 26
        }
      ],
      "source": [
        "dat     = pd.read_csv(perl, names=['z', 'Effective magnitude'], comment='#', sep='\\s+')\n",
        "toprint = dat[:10]\n",
        "toprint"
      ]
    },
    {
      "cell_type": "markdown",
      "metadata": {
        "id": "prltHNgazO8c"
      },
      "source": [
        "A plot would show this a lot more clearly:"
      ]
    },
    {
      "cell_type": "code",
      "execution_count": 27,
      "metadata": {
        "tags": [],
        "colab": {
          "base_uri": "https://localhost:8080/",
          "height": 1000
        },
        "id": "Or5DbTkjzO8d",
        "outputId": "97dc52f9-05ab-46c0-9216-db9128e4e800"
      },
      "outputs": [
        {
          "output_type": "execute_result",
          "data": {
            "text/plain": [
              "Text(0, 0.5, 'Effective magnitude')"
            ]
          },
          "metadata": {},
          "execution_count": 27
        },
        {
          "output_type": "stream",
          "name": "stderr",
          "text": [
            "WARNING:matplotlib.font_manager:findfont: Generic family 'serif' not found because none of the following families were found: Times New Roman\n",
            "WARNING:matplotlib.font_manager:findfont: Generic family 'serif' not found because none of the following families were found: Times New Roman\n",
            "WARNING:matplotlib.font_manager:findfont: Generic family 'serif' not found because none of the following families were found: Times New Roman\n",
            "WARNING:matplotlib.font_manager:findfont: Generic family 'serif' not found because none of the following families were found: Times New Roman\n",
            "WARNING:matplotlib.font_manager:findfont: Generic family 'serif' not found because none of the following families were found: Times New Roman\n",
            "WARNING:matplotlib.font_manager:findfont: Generic family 'serif' not found because none of the following families were found: Times New Roman\n",
            "WARNING:matplotlib.font_manager:findfont: Generic family 'serif' not found because none of the following families were found: Times New Roman\n",
            "WARNING:matplotlib.font_manager:findfont: Generic family 'serif' not found because none of the following families were found: Times New Roman\n",
            "WARNING:matplotlib.font_manager:findfont: Generic family 'serif' not found because none of the following families were found: Times New Roman\n",
            "WARNING:matplotlib.font_manager:findfont: Generic family 'serif' not found because none of the following families were found: Times New Roman\n",
            "WARNING:matplotlib.font_manager:findfont: Generic family 'serif' not found because none of the following families were found: Times New Roman\n",
            "WARNING:matplotlib.font_manager:findfont: Generic family 'serif' not found because none of the following families were found: Times New Roman\n",
            "WARNING:matplotlib.font_manager:findfont: Generic family 'serif' not found because none of the following families were found: Times New Roman\n",
            "WARNING:matplotlib.font_manager:findfont: Generic family 'serif' not found because none of the following families were found: Times New Roman\n",
            "WARNING:matplotlib.font_manager:findfont: Generic family 'serif' not found because none of the following families were found: Times New Roman\n",
            "WARNING:matplotlib.font_manager:findfont: Generic family 'serif' not found because none of the following families were found: Times New Roman\n",
            "WARNING:matplotlib.font_manager:findfont: Generic family 'serif' not found because none of the following families were found: Times New Roman\n",
            "WARNING:matplotlib.font_manager:findfont: Generic family 'serif' not found because none of the following families were found: Times New Roman\n",
            "WARNING:matplotlib.font_manager:findfont: Generic family 'serif' not found because none of the following families were found: Times New Roman\n",
            "WARNING:matplotlib.font_manager:findfont: Generic family 'serif' not found because none of the following families were found: Times New Roman\n",
            "WARNING:matplotlib.font_manager:findfont: Generic family 'serif' not found because none of the following families were found: Times New Roman\n",
            "WARNING:matplotlib.font_manager:findfont: Generic family 'serif' not found because none of the following families were found: Times New Roman\n",
            "WARNING:matplotlib.font_manager:findfont: Generic family 'serif' not found because none of the following families were found: Times New Roman\n",
            "WARNING:matplotlib.font_manager:findfont: Generic family 'serif' not found because none of the following families were found: Times New Roman\n",
            "WARNING:matplotlib.font_manager:findfont: Generic family 'serif' not found because none of the following families were found: Times New Roman\n",
            "WARNING:matplotlib.font_manager:findfont: Generic family 'serif' not found because none of the following families were found: Times New Roman\n",
            "WARNING:matplotlib.font_manager:findfont: Generic family 'serif' not found because none of the following families were found: Times New Roman\n",
            "WARNING:matplotlib.font_manager:findfont: Generic family 'serif' not found because none of the following families were found: Times New Roman\n",
            "WARNING:matplotlib.font_manager:findfont: Generic family 'serif' not found because none of the following families were found: Times New Roman\n",
            "WARNING:matplotlib.font_manager:findfont: Generic family 'serif' not found because none of the following families were found: Times New Roman\n",
            "WARNING:matplotlib.font_manager:findfont: Generic family 'serif' not found because none of the following families were found: Times New Roman\n",
            "WARNING:matplotlib.font_manager:findfont: Generic family 'serif' not found because none of the following families were found: Times New Roman\n",
            "WARNING:matplotlib.font_manager:findfont: Generic family 'serif' not found because none of the following families were found: Times New Roman\n",
            "WARNING:matplotlib.font_manager:findfont: Generic family 'serif' not found because none of the following families were found: Times New Roman\n",
            "WARNING:matplotlib.font_manager:findfont: Generic family 'serif' not found because none of the following families were found: Times New Roman\n",
            "WARNING:matplotlib.font_manager:findfont: Generic family 'serif' not found because none of the following families were found: Times New Roman\n",
            "WARNING:matplotlib.font_manager:findfont: Generic family 'serif' not found because none of the following families were found: Times New Roman\n",
            "WARNING:matplotlib.font_manager:findfont: Generic family 'serif' not found because none of the following families were found: Times New Roman\n",
            "WARNING:matplotlib.font_manager:findfont: Generic family 'serif' not found because none of the following families were found: Times New Roman\n",
            "WARNING:matplotlib.font_manager:findfont: Generic family 'serif' not found because none of the following families were found: Times New Roman\n",
            "WARNING:matplotlib.font_manager:findfont: Generic family 'serif' not found because none of the following families were found: Times New Roman\n",
            "WARNING:matplotlib.font_manager:findfont: Generic family 'serif' not found because none of the following families were found: Times New Roman\n",
            "WARNING:matplotlib.font_manager:findfont: Generic family 'serif' not found because none of the following families were found: Times New Roman\n",
            "WARNING:matplotlib.font_manager:findfont: Generic family 'serif' not found because none of the following families were found: Times New Roman\n",
            "WARNING:matplotlib.font_manager:findfont: Generic family 'serif' not found because none of the following families were found: Times New Roman\n",
            "WARNING:matplotlib.font_manager:findfont: Generic family 'serif' not found because none of the following families were found: Times New Roman\n",
            "WARNING:matplotlib.font_manager:findfont: Generic family 'serif' not found because none of the following families were found: Times New Roman\n",
            "WARNING:matplotlib.font_manager:findfont: Generic family 'serif' not found because none of the following families were found: Times New Roman\n",
            "WARNING:matplotlib.font_manager:findfont: Generic family 'serif' not found because none of the following families were found: Times New Roman\n",
            "WARNING:matplotlib.font_manager:findfont: Generic family 'serif' not found because none of the following families were found: Times New Roman\n",
            "WARNING:matplotlib.font_manager:findfont: Generic family 'serif' not found because none of the following families were found: Times New Roman\n",
            "WARNING:matplotlib.font_manager:findfont: Generic family 'serif' not found because none of the following families were found: Times New Roman\n",
            "WARNING:matplotlib.font_manager:findfont: Generic family 'serif' not found because none of the following families were found: Times New Roman\n",
            "WARNING:matplotlib.font_manager:findfont: Generic family 'serif' not found because none of the following families were found: Times New Roman\n",
            "WARNING:matplotlib.font_manager:findfont: Generic family 'serif' not found because none of the following families were found: Times New Roman\n",
            "WARNING:matplotlib.font_manager:findfont: Generic family 'serif' not found because none of the following families were found: Times New Roman\n"
          ]
        },
        {
          "output_type": "display_data",
          "data": {
            "text/plain": [
              "<Figure size 664.176x410.483 with 1 Axes>"
            ],
            "image/png": "[encoded data removed]"
          },
          "metadata": {}
        }
      ],
      "source": [
        "pl.plot(dat['z'], dat['Effective magnitude'], marker='.', lw=0.0)\n",
        "\n",
        "pl.xlabel('z')\n",
        "pl.ylabel('Effective magnitude')"
      ]
    },
    {
      "cell_type": "markdown",
      "metadata": {
        "id": "k1uzXfwezO8d"
      },
      "source": [
        "Saul has good reason to believe (really, he had to tweak them a bit first) that every [type Ia supernovae](https://en.wikipedia.org/wiki/Type_Ia_supernova) shown here was equally bright intrinsically, but those at high redshift appeared relatively faint compared to those at low redshift, as they were simply further away.  This explains the trend shown, given that 'effective magnitude' is the awkward way in which astronomers typically express how bright something appears."
      ]
    },
    {
      "cell_type": "markdown",
      "metadata": {
        "id": "sRSJdr03zO8d"
      },
      "source": [
        "The useful thing about this measurement is that how far away a supernovae or galaxy is for a given redshift depends on a few parameters, one of which is how much Dark Energy there might be in the Universe.  Almost everyone expected this data to prove there was _no_ _Dark Energy_ when Saul made it, but a few guessed otherwise.  \n",
        "\n",
        "When Hubble discovered the expansion, a natural consequence was that the amount of (rest mass) energy contained within a cubic meter would dilute with time.  Dark Energy would be special, as the amount of energy per cubic meter would instead be constant with time and would suggest that spooky effects of [quantum mechanics](https://en.wikipedia.org/wiki/Quantum_mechanics) would be causing the galaxies to separate.         "
      ]
    },
    {
      "cell_type": "markdown",
      "metadata": {
        "id": "kRfrMCOHzO8d"
      },
      "source": [
        "So let's use Saul's data to figure out how much Dark Energy is in the Universe.  First, we need a model for the (luminosity) distance of a supernovae at a given redshift, given some amount of Dark Energy.  We use $\\Omega_\\Lambda$ to denote the _fraction_ of all matter that behaves like Dark Energy."
      ]
    },
    {
      "cell_type": "code",
      "execution_count": 28,
      "metadata": {
        "tags": [],
        "id": "2VyVNPIyzO8d"
      },
      "outputs": [],
      "source": [
        "from astropy.cosmology import FlatLambdaCDM\n",
        "\n",
        "def lumdist(z, olambda):\n",
        "  cosmo = FlatLambdaCDM(H0=70, Om0=1. - olambda, Tcmb0=2.725)\n",
        "\n",
        "  return  cosmo.luminosity_distance(z)"
      ]
    },
    {
      "cell_type": "markdown",
      "metadata": {
        "id": "U-OOmItOzO8e"
      },
      "source": [
        "We then need to convert this distance into how astronomers measure brightness:"
      ]
    },
    {
      "cell_type": "code",
      "execution_count": 29,
      "metadata": {
        "tags": [],
        "id": "sSNGO16RzO8e"
      },
      "outputs": [],
      "source": [
        "def effmag(z, olambda, MB):\n",
        "  DL = lumdist(z, olambda)\n",
        "\n",
        "  return MB + 5. * np.log10(DL.value)"
      ]
    },
    {
      "cell_type": "code",
      "execution_count": 30,
      "metadata": {
        "tags": [],
        "colab": {
          "base_uri": "https://localhost:8080/",
          "height": 1000
        },
        "id": "mFMdG3rMzO8f",
        "outputId": "759a4776-37ac-47b3-a5e8-e52161da9e03"
      },
      "outputs": [
        {
          "output_type": "execute_result",
          "data": {
            "text/plain": [
              "<matplotlib.legend.Legend at 0x7c8c02244dc0>"
            ]
          },
          "metadata": {},
          "execution_count": 30
        },
        {
          "output_type": "stream",
          "name": "stderr",
          "text": [
            "WARNING:matplotlib.font_manager:findfont: Generic family 'serif' not found because none of the following families were found: Times New Roman\n",
            "WARNING:matplotlib.font_manager:findfont: Generic family 'serif' not found because none of the following families were found: Times New Roman\n",
            "WARNING:matplotlib.font_manager:findfont: Generic family 'serif' not found because none of the following families were found: Times New Roman\n",
            "WARNING:matplotlib.font_manager:findfont: Generic family 'serif' not found because none of the following families were found: Times New Roman\n",
            "WARNING:matplotlib.font_manager:findfont: Generic family 'serif' not found because none of the following families were found: Times New Roman\n",
            "WARNING:matplotlib.font_manager:findfont: Generic family 'serif' not found because none of the following families were found: Times New Roman\n",
            "WARNING:matplotlib.font_manager:findfont: Generic family 'serif' not found because none of the following families were found: Times New Roman\n",
            "WARNING:matplotlib.font_manager:findfont: Generic family 'serif' not found because none of the following families were found: Times New Roman\n",
            "WARNING:matplotlib.font_manager:findfont: Generic family 'serif' not found because none of the following families were found: Times New Roman\n",
            "WARNING:matplotlib.font_manager:findfont: Generic family 'serif' not found because none of the following families were found: Times New Roman\n",
            "WARNING:matplotlib.font_manager:findfont: Generic family 'serif' not found because none of the following families were found: Times New Roman\n",
            "WARNING:matplotlib.font_manager:findfont: Generic family 'serif' not found because none of the following families were found: Times New Roman\n",
            "WARNING:matplotlib.font_manager:findfont: Generic family 'serif' not found because none of the following families were found: Times New Roman\n",
            "WARNING:matplotlib.font_manager:findfont: Generic family 'serif' not found because none of the following families were found: Times New Roman\n",
            "WARNING:matplotlib.font_manager:findfont: Generic family 'serif' not found because none of the following families were found: Times New Roman\n",
            "WARNING:matplotlib.font_manager:findfont: Generic family 'serif' not found because none of the following families were found: Times New Roman\n",
            "WARNING:matplotlib.font_manager:findfont: Generic family 'serif' not found because none of the following families were found: Times New Roman\n",
            "WARNING:matplotlib.font_manager:findfont: Generic family 'serif' not found because none of the following families were found: Times New Roman\n",
            "WARNING:matplotlib.font_manager:findfont: Generic family 'serif' not found because none of the following families were found: Times New Roman\n",
            "WARNING:matplotlib.font_manager:findfont: Generic family 'serif' not found because none of the following families were found: Times New Roman\n",
            "WARNING:matplotlib.font_manager:findfont: Generic family 'serif' not found because none of the following families were found: Times New Roman\n",
            "WARNING:matplotlib.font_manager:findfont: Generic family 'serif' not found because none of the following families were found: Times New Roman\n",
            "WARNING:matplotlib.font_manager:findfont: Generic family 'serif' not found because none of the following families were found: Times New Roman\n",
            "WARNING:matplotlib.font_manager:findfont: Generic family 'serif' not found because none of the following families were found: Times New Roman\n",
            "WARNING:matplotlib.font_manager:findfont: Generic family 'serif' not found because none of the following families were found: Times New Roman\n",
            "WARNING:matplotlib.font_manager:findfont: Generic family 'serif' not found because none of the following families were found: Times New Roman\n",
            "WARNING:matplotlib.font_manager:findfont: Generic family 'serif' not found because none of the following families were found: Times New Roman\n",
            "WARNING:matplotlib.font_manager:findfont: Generic family 'serif' not found because none of the following families were found: Times New Roman\n",
            "WARNING:matplotlib.font_manager:findfont: Generic family 'serif' not found because none of the following families were found: Times New Roman\n",
            "WARNING:matplotlib.font_manager:findfont: Generic family 'serif' not found because none of the following families were found: Times New Roman\n",
            "WARNING:matplotlib.font_manager:findfont: Generic family 'serif' not found because none of the following families were found: Times New Roman\n",
            "WARNING:matplotlib.font_manager:findfont: Generic family 'serif' not found because none of the following families were found: Times New Roman\n",
            "WARNING:matplotlib.font_manager:findfont: Generic family 'serif' not found because none of the following families were found: Times New Roman\n",
            "WARNING:matplotlib.font_manager:findfont: Generic family 'serif' not found because none of the following families were found: Times New Roman\n",
            "WARNING:matplotlib.font_manager:findfont: Generic family 'serif' not found because none of the following families were found: Times New Roman\n",
            "WARNING:matplotlib.font_manager:findfont: Generic family 'serif' not found because none of the following families were found: Times New Roman\n",
            "WARNING:matplotlib.font_manager:findfont: Generic family 'serif' not found because none of the following families were found: Times New Roman\n",
            "WARNING:matplotlib.font_manager:findfont: Generic family 'serif' not found because none of the following families were found: Times New Roman\n",
            "WARNING:matplotlib.font_manager:findfont: Generic family 'serif' not found because none of the following families were found: Times New Roman\n",
            "WARNING:matplotlib.font_manager:findfont: Generic family 'serif' not found because none of the following families were found: Times New Roman\n",
            "WARNING:matplotlib.font_manager:findfont: Generic family 'serif' not found because none of the following families were found: Times New Roman\n",
            "WARNING:matplotlib.font_manager:findfont: Generic family 'serif' not found because none of the following families were found: Times New Roman\n",
            "WARNING:matplotlib.font_manager:findfont: Generic family 'serif' not found because none of the following families were found: Times New Roman\n",
            "WARNING:matplotlib.font_manager:findfont: Generic family 'serif' not found because none of the following families were found: Times New Roman\n",
            "WARNING:matplotlib.font_manager:findfont: Generic family 'serif' not found because none of the following families were found: Times New Roman\n",
            "WARNING:matplotlib.font_manager:findfont: Generic family 'serif' not found because none of the following families were found: Times New Roman\n",
            "WARNING:matplotlib.font_manager:findfont: Generic family 'serif' not found because none of the following families were found: Times New Roman\n",
            "WARNING:matplotlib.font_manager:findfont: Generic family 'serif' not found because none of the following families were found: Times New Roman\n",
            "WARNING:matplotlib.font_manager:findfont: Generic family 'serif' not found because none of the following families were found: Times New Roman\n",
            "WARNING:matplotlib.font_manager:findfont: Generic family 'serif' not found because none of the following families were found: Times New Roman\n",
            "WARNING:matplotlib.font_manager:findfont: Generic family 'serif' not found because none of the following families were found: Times New Roman\n",
            "WARNING:matplotlib.font_manager:findfont: Generic family 'serif' not found because none of the following families were found: Times New Roman\n",
            "WARNING:matplotlib.font_manager:findfont: Generic family 'serif' not found because none of the following families were found: Times New Roman\n",
            "WARNING:matplotlib.font_manager:findfont: Generic family 'serif' not found because none of the following families were found: Times New Roman\n",
            "WARNING:matplotlib.font_manager:findfont: Generic family 'serif' not found because none of the following families were found: Times New Roman\n",
            "WARNING:matplotlib.font_manager:findfont: Generic family 'serif' not found because none of the following families were found: Times New Roman\n",
            "WARNING:matplotlib.font_manager:findfont: Generic family 'serif' not found because none of the following families were found: Times New Roman\n",
            "WARNING:matplotlib.font_manager:findfont: Generic family 'serif' not found because none of the following families were found: Times New Roman\n",
            "WARNING:matplotlib.font_manager:findfont: Generic family 'serif' not found because none of the following families were found: Times New Roman\n",
            "WARNING:matplotlib.font_manager:findfont: Generic family 'serif' not found because none of the following families were found: Times New Roman\n",
            "WARNING:matplotlib.font_manager:findfont: Generic family 'serif' not found because none of the following families were found: Times New Roman\n",
            "WARNING:matplotlib.font_manager:findfont: Generic family 'serif' not found because none of the following families were found: Times New Roman\n",
            "WARNING:matplotlib.font_manager:findfont: Generic family 'serif' not found because none of the following families were found: Times New Roman\n",
            "WARNING:matplotlib.font_manager:findfont: Generic family 'serif' not found because none of the following families were found: Times New Roman\n",
            "WARNING:matplotlib.font_manager:findfont: Generic family 'serif' not found because none of the following families were found: Times New Roman\n",
            "WARNING:matplotlib.font_manager:findfont: Generic family 'serif' not found because none of the following families were found: Times New Roman\n",
            "WARNING:matplotlib.font_manager:findfont: Generic family 'serif' not found because none of the following families were found: Times New Roman\n",
            "WARNING:matplotlib.font_manager:findfont: Generic family 'serif' not found because none of the following families were found: Times New Roman\n",
            "WARNING:matplotlib.font_manager:findfont: Generic family 'serif' not found because none of the following families were found: Times New Roman\n",
            "WARNING:matplotlib.font_manager:findfont: Generic family 'serif' not found because none of the following families were found: Times New Roman\n",
            "WARNING:matplotlib.font_manager:findfont: Generic family 'serif' not found because none of the following families were found: Times New Roman\n",
            "WARNING:matplotlib.font_manager:findfont: Generic family 'serif' not found because none of the following families were found: Times New Roman\n",
            "WARNING:matplotlib.font_manager:findfont: Generic family 'serif' not found because none of the following families were found: Times New Roman\n",
            "WARNING:matplotlib.font_manager:findfont: Generic family 'serif' not found because none of the following families were found: Times New Roman\n",
            "WARNING:matplotlib.font_manager:findfont: Generic family 'serif' not found because none of the following families were found: Times New Roman\n",
            "WARNING:matplotlib.font_manager:findfont: Generic family 'serif' not found because none of the following families were found: Times New Roman\n",
            "WARNING:matplotlib.font_manager:findfont: Generic family 'serif' not found because none of the following families were found: Times New Roman\n",
            "WARNING:matplotlib.font_manager:findfont: Generic family 'serif' not found because none of the following families were found: Times New Roman\n",
            "WARNING:matplotlib.font_manager:findfont: Generic family 'serif' not found because none of the following families were found: Times New Roman\n",
            "WARNING:matplotlib.font_manager:findfont: Generic family 'serif' not found because none of the following families were found: Times New Roman\n",
            "WARNING:matplotlib.font_manager:findfont: Generic family 'serif' not found because none of the following families were found: Times New Roman\n",
            "WARNING:matplotlib.font_manager:findfont: Generic family 'serif' not found because none of the following families were found: Times New Roman\n",
            "WARNING:matplotlib.font_manager:findfont: Generic family 'serif' not found because none of the following families were found: Times New Roman\n",
            "WARNING:matplotlib.font_manager:findfont: Generic family 'serif' not found because none of the following families were found: Times New Roman\n",
            "WARNING:matplotlib.font_manager:findfont: Generic family 'serif' not found because none of the following families were found: Times New Roman\n",
            "WARNING:matplotlib.font_manager:findfont: Generic family 'serif' not found because none of the following families were found: Times New Roman\n",
            "WARNING:matplotlib.font_manager:findfont: Generic family 'serif' not found because none of the following families were found: Times New Roman\n",
            "WARNING:matplotlib.font_manager:findfont: Generic family 'serif' not found because none of the following families were found: Times New Roman\n",
            "WARNING:matplotlib.font_manager:findfont: Generic family 'serif' not found because none of the following families were found: Times New Roman\n",
            "WARNING:matplotlib.font_manager:findfont: Generic family 'serif' not found because none of the following families were found: Times New Roman\n",
            "WARNING:matplotlib.font_manager:findfont: Generic family 'serif' not found because none of the following families were found: Times New Roman\n",
            "WARNING:matplotlib.font_manager:findfont: Generic family 'serif' not found because none of the following families were found: Times New Roman\n",
            "WARNING:matplotlib.font_manager:findfont: Generic family 'serif' not found because none of the following families were found: Times New Roman\n",
            "WARNING:matplotlib.font_manager:findfont: Generic family 'serif' not found because none of the following families were found: Times New Roman\n",
            "WARNING:matplotlib.font_manager:findfont: Generic family 'serif' not found because none of the following families were found: Times New Roman\n",
            "WARNING:matplotlib.font_manager:findfont: Generic family 'serif' not found because none of the following families were found: Times New Roman\n",
            "WARNING:matplotlib.font_manager:findfont: Generic family 'serif' not found because none of the following families were found: Times New Roman\n",
            "WARNING:matplotlib.font_manager:findfont: Generic family 'serif' not found because none of the following families were found: Times New Roman\n",
            "WARNING:matplotlib.font_manager:findfont: Generic family 'serif' not found because none of the following families were found: Times New Roman\n",
            "WARNING:matplotlib.font_manager:findfont: Generic family 'serif' not found because none of the following families were found: Times New Roman\n",
            "WARNING:matplotlib.font_manager:findfont: Generic family 'serif' not found because none of the following families were found: Times New Roman\n",
            "WARNING:matplotlib.font_manager:findfont: Generic family 'serif' not found because none of the following families were found: Times New Roman\n"
          ]
        },
        {
          "output_type": "display_data",
          "data": {
            "text/plain": [
              "<Figure size 664.176x410.483 with 1 Axes>"
            ],
            "image/png": "[encoded data removed]"
          },
          "metadata": {}
        }
      ],
      "source": [
        "zs = np.arange(0.01, 0.85, 0.01)\n",
        "\n",
        "pl.plot(dat['z'], dat['Effective magnitude'], marker='.', lw=0.0)\n",
        "\n",
        "pl.plot(zs, effmag(zs, 0.0, 6.), c='k', label='No Dark Energy', alpha=0.5)\n",
        "pl.plot(zs, effmag(zs, 0.5, 6.), c='k', label='Dark Energy!')\n",
        "\n",
        "pl.xlabel('z')\n",
        "pl.ylabel('Effective magnitude')\n",
        "\n",
        "pl.legend(loc=4, frameon=False)"
      ]
    },
    {
      "cell_type": "markdown",
      "metadata": {
        "id": "hpN4SPGSzO8f"
      },
      "source": [
        "Even by eye, the data looks to prefer some Dark Energy.  But there's not a huge amount in it.  Let's figure out what exactly the data prefers.  To do this, we'll assume that minimising the distance between each point and the line is the best measure of how well the theory fits the data (see https://en.wikipedia.org/wiki/Least_squares).  Together with the fraction of Dark Energy, we also don't know how bright every supernovae is intrinsically so we'll fit for that simultaneously.   "
      ]
    },
    {
      "cell_type": "code",
      "execution_count": 31,
      "metadata": {
        "tags": [],
        "id": "h9ojPz8rzO8f"
      },
      "outputs": [],
      "source": [
        "from scipy.optimize import minimize"
      ]
    },
    {
      "cell_type": "code",
      "execution_count": 32,
      "metadata": {
        "tags": [],
        "id": "dHySQ-SAzO8g"
      },
      "outputs": [],
      "source": [
        "def chi2(x):\n",
        "     olambda = x[0]\n",
        "     MB      = x[1]\n",
        "\n",
        "     model   = effmag(np.asarray(dat['z']), olambda, MB)\n",
        "\n",
        "     return  np.sum((dat['Effective magnitude'] - model)**2.)"
      ]
    },
    {
      "cell_type": "code",
      "execution_count": 33,
      "metadata": {
        "tags": [],
        "colab": {
          "base_uri": "https://localhost:8080/"
        },
        "id": "-H2fPm8TzO8g",
        "outputId": "9af24a50-b7be-40e5-e80e-f7e99ef4e6dd"
      },
      "outputs": [
        {
          "output_type": "stream",
          "name": "stdout",
          "text": [
            "Optimization terminated successfully.\n",
            "         Current function value: 6.018565\n",
            "         Iterations: 10\n",
            "         Function evaluations: 39\n",
            "         Gradient evaluations: 13\n"
          ]
        }
      ],
      "source": [
        "res = minimize(chi2, x0=[0.5, 5.0], options={'disp': True})"
      ]
    },
    {
      "cell_type": "code",
      "execution_count": 34,
      "metadata": {
        "tags": [],
        "colab": {
          "base_uri": "https://localhost:8080/"
        },
        "id": "8Q4z2T1JzO8h",
        "outputId": "dff24ece-e3ce-4cb0-cdf8-f23f2b15eaf0"
      },
      "outputs": [
        {
          "output_type": "execute_result",
          "data": {
            "text/plain": [
              "array([0.75146007, 5.82802908])"
            ]
          },
          "metadata": {},
          "execution_count": 34
        }
      ],
      "source": [
        "res.x"
      ]
    },
    {
      "cell_type": "code",
      "execution_count": 35,
      "metadata": {
        "tags": [],
        "colab": {
          "base_uri": "https://localhost:8080/",
          "height": 1000
        },
        "id": "s3xo0BFTzO8h",
        "outputId": "7337cf18-660f-4d76-dff5-3d7b6037ddfe"
      },
      "outputs": [
        {
          "output_type": "execute_result",
          "data": {
            "text/plain": [
              "<matplotlib.legend.Legend at 0x7c8c030a1990>"
            ]
          },
          "metadata": {},
          "execution_count": 35
        },
        {
          "output_type": "stream",
          "name": "stderr",
          "text": [
            "WARNING:matplotlib.font_manager:findfont: Generic family 'serif' not found because none of the following families were found: Times New Roman\n",
            "WARNING:matplotlib.font_manager:findfont: Generic family 'serif' not found because none of the following families were found: Times New Roman\n",
            "WARNING:matplotlib.font_manager:findfont: Generic family 'serif' not found because none of the following families were found: Times New Roman\n",
            "WARNING:matplotlib.font_manager:findfont: Generic family 'serif' not found because none of the following families were found: Times New Roman\n",
            "WARNING:matplotlib.font_manager:findfont: Generic family 'serif' not found because none of the following families were found: Times New Roman\n",
            "WARNING:matplotlib.font_manager:findfont: Generic family 'serif' not found because none of the following families were found: Times New Roman\n",
            "WARNING:matplotlib.font_manager:findfont: Generic family 'serif' not found because none of the following families were found: Times New Roman\n",
            "WARNING:matplotlib.font_manager:findfont: Generic family 'serif' not found because none of the following families were found: Times New Roman\n",
            "WARNING:matplotlib.font_manager:findfont: Generic family 'serif' not found because none of the following families were found: Times New Roman\n",
            "WARNING:matplotlib.font_manager:findfont: Generic family 'serif' not found because none of the following families were found: Times New Roman\n",
            "WARNING:matplotlib.font_manager:findfont: Generic family 'serif' not found because none of the following families were found: Times New Roman\n",
            "WARNING:matplotlib.font_manager:findfont: Generic family 'serif' not found because none of the following families were found: Times New Roman\n",
            "WARNING:matplotlib.font_manager:findfont: Generic family 'serif' not found because none of the following families were found: Times New Roman\n",
            "WARNING:matplotlib.font_manager:findfont: Generic family 'serif' not found because none of the following families were found: Times New Roman\n",
            "WARNING:matplotlib.font_manager:findfont: Generic family 'serif' not found because none of the following families were found: Times New Roman\n",
            "WARNING:matplotlib.font_manager:findfont: Generic family 'serif' not found because none of the following families were found: Times New Roman\n",
            "WARNING:matplotlib.font_manager:findfont: Generic family 'serif' not found because none of the following families were found: Times New Roman\n",
            "WARNING:matplotlib.font_manager:findfont: Generic family 'serif' not found because none of the following families were found: Times New Roman\n",
            "WARNING:matplotlib.font_manager:findfont: Generic family 'serif' not found because none of the following families were found: Times New Roman\n",
            "WARNING:matplotlib.font_manager:findfont: Generic family 'serif' not found because none of the following families were found: Times New Roman\n",
            "WARNING:matplotlib.font_manager:findfont: Generic family 'serif' not found because none of the following families were found: Times New Roman\n",
            "WARNING:matplotlib.font_manager:findfont: Generic family 'serif' not found because none of the following families were found: Times New Roman\n",
            "WARNING:matplotlib.font_manager:findfont: Generic family 'serif' not found because none of the following families were found: Times New Roman\n",
            "WARNING:matplotlib.font_manager:findfont: Generic family 'serif' not found because none of the following families were found: Times New Roman\n",
            "WARNING:matplotlib.font_manager:findfont: Generic family 'serif' not found because none of the following families were found: Times New Roman\n",
            "WARNING:matplotlib.font_manager:findfont: Generic family 'serif' not found because none of the following families were found: Times New Roman\n",
            "WARNING:matplotlib.font_manager:findfont: Generic family 'serif' not found because none of the following families were found: Times New Roman\n",
            "WARNING:matplotlib.font_manager:findfont: Generic family 'serif' not found because none of the following families were found: Times New Roman\n",
            "WARNING:matplotlib.font_manager:findfont: Generic family 'serif' not found because none of the following families were found: Times New Roman\n",
            "WARNING:matplotlib.font_manager:findfont: Generic family 'serif' not found because none of the following families were found: Times New Roman\n",
            "WARNING:matplotlib.font_manager:findfont: Generic family 'serif' not found because none of the following families were found: Times New Roman\n",
            "WARNING:matplotlib.font_manager:findfont: Generic family 'serif' not found because none of the following families were found: Times New Roman\n",
            "WARNING:matplotlib.font_manager:findfont: Generic family 'serif' not found because none of the following families were found: Times New Roman\n",
            "WARNING:matplotlib.font_manager:findfont: Generic family 'serif' not found because none of the following families were found: Times New Roman\n",
            "WARNING:matplotlib.font_manager:findfont: Generic family 'serif' not found because none of the following families were found: Times New Roman\n",
            "WARNING:matplotlib.font_manager:findfont: Generic family 'serif' not found because none of the following families were found: Times New Roman\n",
            "WARNING:matplotlib.font_manager:findfont: Generic family 'serif' not found because none of the following families were found: Times New Roman\n",
            "WARNING:matplotlib.font_manager:findfont: Generic family 'serif' not found because none of the following families were found: Times New Roman\n",
            "WARNING:matplotlib.font_manager:findfont: Generic family 'serif' not found because none of the following families were found: Times New Roman\n",
            "WARNING:matplotlib.font_manager:findfont: Generic family 'serif' not found because none of the following families were found: Times New Roman\n",
            "WARNING:matplotlib.font_manager:findfont: Generic family 'serif' not found because none of the following families were found: Times New Roman\n",
            "WARNING:matplotlib.font_manager:findfont: Generic family 'serif' not found because none of the following families were found: Times New Roman\n",
            "WARNING:matplotlib.font_manager:findfont: Generic family 'serif' not found because none of the following families were found: Times New Roman\n",
            "WARNING:matplotlib.font_manager:findfont: Generic family 'serif' not found because none of the following families were found: Times New Roman\n",
            "WARNING:matplotlib.font_manager:findfont: Generic family 'serif' not found because none of the following families were found: Times New Roman\n",
            "WARNING:matplotlib.font_manager:findfont: Generic family 'serif' not found because none of the following families were found: Times New Roman\n",
            "WARNING:matplotlib.font_manager:findfont: Generic family 'serif' not found because none of the following families were found: Times New Roman\n",
            "WARNING:matplotlib.font_manager:findfont: Generic family 'serif' not found because none of the following families were found: Times New Roman\n",
            "WARNING:matplotlib.font_manager:findfont: Generic family 'serif' not found because none of the following families were found: Times New Roman\n",
            "WARNING:matplotlib.font_manager:findfont: Generic family 'serif' not found because none of the following families were found: Times New Roman\n",
            "WARNING:matplotlib.font_manager:findfont: Generic family 'serif' not found because none of the following families were found: Times New Roman\n",
            "WARNING:matplotlib.font_manager:findfont: Generic family 'serif' not found because none of the following families were found: Times New Roman\n",
            "WARNING:matplotlib.font_manager:findfont: Generic family 'serif' not found because none of the following families were found: Times New Roman\n",
            "WARNING:matplotlib.font_manager:findfont: Generic family 'serif' not found because none of the following families were found: Times New Roman\n",
            "WARNING:matplotlib.font_manager:findfont: Generic family 'serif' not found because none of the following families were found: Times New Roman\n",
            "WARNING:matplotlib.font_manager:findfont: Generic family 'serif' not found because none of the following families were found: Times New Roman\n",
            "WARNING:matplotlib.font_manager:findfont: Generic family 'serif' not found because none of the following families were found: Times New Roman\n",
            "WARNING:matplotlib.font_manager:findfont: Generic family 'serif' not found because none of the following families were found: Times New Roman\n",
            "WARNING:matplotlib.font_manager:findfont: Generic family 'serif' not found because none of the following families were found: Times New Roman\n",
            "WARNING:matplotlib.font_manager:findfont: Generic family 'serif' not found because none of the following families were found: Times New Roman\n",
            "WARNING:matplotlib.font_manager:findfont: Generic family 'serif' not found because none of the following families were found: Times New Roman\n",
            "WARNING:matplotlib.font_manager:findfont: Generic family 'serif' not found because none of the following families were found: Times New Roman\n",
            "WARNING:matplotlib.font_manager:findfont: Generic family 'serif' not found because none of the following families were found: Times New Roman\n",
            "WARNING:matplotlib.font_manager:findfont: Generic family 'serif' not found because none of the following families were found: Times New Roman\n",
            "WARNING:matplotlib.font_manager:findfont: Generic family 'serif' not found because none of the following families were found: Times New Roman\n",
            "WARNING:matplotlib.font_manager:findfont: Generic family 'serif' not found because none of the following families were found: Times New Roman\n",
            "WARNING:matplotlib.font_manager:findfont: Generic family 'serif' not found because none of the following families were found: Times New Roman\n",
            "WARNING:matplotlib.font_manager:findfont: Generic family 'serif' not found because none of the following families were found: Times New Roman\n",
            "WARNING:matplotlib.font_manager:findfont: Generic family 'serif' not found because none of the following families were found: Times New Roman\n",
            "WARNING:matplotlib.font_manager:findfont: Generic family 'serif' not found because none of the following families were found: Times New Roman\n",
            "WARNING:matplotlib.font_manager:findfont: Generic family 'serif' not found because none of the following families were found: Times New Roman\n",
            "WARNING:matplotlib.font_manager:findfont: Generic family 'serif' not found because none of the following families were found: Times New Roman\n",
            "WARNING:matplotlib.font_manager:findfont: Generic family 'serif' not found because none of the following families were found: Times New Roman\n",
            "WARNING:matplotlib.font_manager:findfont: Generic family 'serif' not found because none of the following families were found: Times New Roman\n",
            "WARNING:matplotlib.font_manager:findfont: Generic family 'serif' not found because none of the following families were found: Times New Roman\n",
            "WARNING:matplotlib.font_manager:findfont: Generic family 'serif' not found because none of the following families were found: Times New Roman\n",
            "WARNING:matplotlib.font_manager:findfont: Generic family 'serif' not found because none of the following families were found: Times New Roman\n",
            "WARNING:matplotlib.font_manager:findfont: Generic family 'serif' not found because none of the following families were found: Times New Roman\n",
            "WARNING:matplotlib.font_manager:findfont: Generic family 'serif' not found because none of the following families were found: Times New Roman\n",
            "WARNING:matplotlib.font_manager:findfont: Generic family 'serif' not found because none of the following families were found: Times New Roman\n",
            "WARNING:matplotlib.font_manager:findfont: Generic family 'serif' not found because none of the following families were found: Times New Roman\n",
            "WARNING:matplotlib.font_manager:findfont: Generic family 'serif' not found because none of the following families were found: Times New Roman\n",
            "WARNING:matplotlib.font_manager:findfont: Generic family 'serif' not found because none of the following families were found: Times New Roman\n",
            "WARNING:matplotlib.font_manager:findfont: Generic family 'serif' not found because none of the following families were found: Times New Roman\n",
            "WARNING:matplotlib.font_manager:findfont: Generic family 'serif' not found because none of the following families were found: Times New Roman\n",
            "WARNING:matplotlib.font_manager:findfont: Generic family 'serif' not found because none of the following families were found: Times New Roman\n",
            "WARNING:matplotlib.font_manager:findfont: Generic family 'serif' not found because none of the following families were found: Times New Roman\n",
            "WARNING:matplotlib.font_manager:findfont: Generic family 'serif' not found because none of the following families were found: Times New Roman\n",
            "WARNING:matplotlib.font_manager:findfont: Generic family 'serif' not found because none of the following families were found: Times New Roman\n",
            "WARNING:matplotlib.font_manager:findfont: Generic family 'serif' not found because none of the following families were found: Times New Roman\n",
            "WARNING:matplotlib.font_manager:findfont: Generic family 'serif' not found because none of the following families were found: Times New Roman\n",
            "WARNING:matplotlib.font_manager:findfont: Generic family 'serif' not found because none of the following families were found: Times New Roman\n",
            "WARNING:matplotlib.font_manager:findfont: Generic family 'serif' not found because none of the following families were found: Times New Roman\n",
            "WARNING:matplotlib.font_manager:findfont: Generic family 'serif' not found because none of the following families were found: Times New Roman\n",
            "WARNING:matplotlib.font_manager:findfont: Generic family 'serif' not found because none of the following families were found: Times New Roman\n",
            "WARNING:matplotlib.font_manager:findfont: Generic family 'serif' not found because none of the following families were found: Times New Roman\n",
            "WARNING:matplotlib.font_manager:findfont: Generic family 'serif' not found because none of the following families were found: Times New Roman\n",
            "WARNING:matplotlib.font_manager:findfont: Generic family 'serif' not found because none of the following families were found: Times New Roman\n",
            "WARNING:matplotlib.font_manager:findfont: Generic family 'serif' not found because none of the following families were found: Times New Roman\n",
            "WARNING:matplotlib.font_manager:findfont: Generic family 'serif' not found because none of the following families were found: Times New Roman\n",
            "WARNING:matplotlib.font_manager:findfont: Generic family 'serif' not found because none of the following families were found: Times New Roman\n",
            "WARNING:matplotlib.font_manager:findfont: Generic family 'serif' not found because none of the following families were found: Times New Roman\n",
            "WARNING:matplotlib.font_manager:findfont: Generic family 'serif' not found because none of the following families were found: Times New Roman\n",
            "WARNING:matplotlib.font_manager:findfont: Generic family 'serif' not found because none of the following families were found: Times New Roman\n",
            "WARNING:matplotlib.font_manager:findfont: Generic family 'serif' not found because none of the following families were found: Times New Roman\n",
            "WARNING:matplotlib.font_manager:findfont: Generic family 'serif' not found because none of the following families were found: Times New Roman\n",
            "WARNING:matplotlib.font_manager:findfont: Generic family 'serif' not found because none of the following families were found: Times New Roman\n",
            "WARNING:matplotlib.font_manager:findfont: Generic family 'serif' not found because none of the following families were found: Times New Roman\n",
            "WARNING:matplotlib.font_manager:findfont: Generic family 'serif' not found because none of the following families were found: Times New Roman\n",
            "WARNING:matplotlib.font_manager:findfont: Generic family 'serif' not found because none of the following families were found: Times New Roman\n",
            "WARNING:matplotlib.font_manager:findfont: Generic family 'serif' not found because none of the following families were found: Times New Roman\n",
            "WARNING:matplotlib.font_manager:findfont: Generic family 'serif' not found because none of the following families were found: Times New Roman\n",
            "WARNING:matplotlib.font_manager:findfont: Generic family 'serif' not found because none of the following families were found: Times New Roman\n",
            "WARNING:matplotlib.font_manager:findfont: Generic family 'serif' not found because none of the following families were found: Times New Roman\n",
            "WARNING:matplotlib.font_manager:findfont: Generic family 'serif' not found because none of the following families were found: Times New Roman\n",
            "WARNING:matplotlib.font_manager:findfont: Generic family 'serif' not found because none of the following families were found: Times New Roman\n",
            "WARNING:matplotlib.font_manager:findfont: Generic family 'serif' not found because none of the following families were found: Times New Roman\n",
            "WARNING:matplotlib.font_manager:findfont: Generic family 'serif' not found because none of the following families were found: Times New Roman\n",
            "WARNING:matplotlib.font_manager:findfont: Generic family 'serif' not found because none of the following families were found: Times New Roman\n",
            "WARNING:matplotlib.font_manager:findfont: Generic family 'serif' not found because none of the following families were found: Times New Roman\n",
            "WARNING:matplotlib.font_manager:findfont: Generic family 'serif' not found because none of the following families were found: Times New Roman\n",
            "WARNING:matplotlib.font_manager:findfont: Generic family 'serif' not found because none of the following families were found: Times New Roman\n",
            "WARNING:matplotlib.font_manager:findfont: Generic family 'serif' not found because none of the following families were found: Times New Roman\n",
            "WARNING:matplotlib.font_manager:findfont: Generic family 'serif' not found because none of the following families were found: Times New Roman\n"
          ]
        },
        {
          "output_type": "display_data",
          "data": {
            "text/plain": [
              "<Figure size 664.176x410.483 with 1 Axes>"
            ],
            "image/png": "[encoded data removed]"
          },
          "metadata": {}
        }
      ],
      "source": [
        "zs = np.arange(0.01, 0.85, 0.01)\n",
        "\n",
        "pl.plot(dat['z'], dat['Effective magnitude'], marker='.', lw=0.0)\n",
        "\n",
        "pl.plot(zs, effmag(zs, 0.0, 6.), c='k',   label='No Dark Energy', alpha=0.5)\n",
        "pl.plot(zs, effmag(zs, 0.5, 6.), c='k',   label='50% Dark Energy!')\n",
        "pl.plot(zs, effmag(zs, 0.75, 6.), c='c', label='75% Dark Energy!')\n",
        "\n",
        "pl.xlabel('z')\n",
        "pl.ylabel('Effective magnitude')\n",
        "\n",
        "pl.legend(loc=4, frameon=False)"
      ]
    },
    {
      "cell_type": "markdown",
      "metadata": {
        "id": "OOUCM_NBzO8h"
      },
      "source": [
        "So there's something like 75% dark energy in the Universe!  As the first people to make this measurement, Saul, together with Brian Schmidt and Adam Reiss, would be awarded the 2011 Nobel Prize for their work."
      ]
    },
    {
      "cell_type": "markdown",
      "metadata": {
        "id": "t1KFT5wSzO8h"
      },
      "source": [
        "![title](https://github.com/DESIHIGH/desihigh/blob/main/desihigh/images/perlmutter_nobel.jpg?raw=1)"
      ]
    },
    {
      "cell_type": "markdown",
      "metadata": {
        "id": "r7HZvqo1zO8i"
      },
      "source": [
        "Photo credit: Lina Göransson, Nobel Prize Foundation (2011)"
      ]
    },
    {
      "cell_type": "markdown",
      "metadata": {
        "id": "aSbCCd5mzO8i"
      },
      "source": [
        "You can find all the details of his work here:  https://arxiv.org/pdf/astro-ph/9812133.pdf.  Warning, this is for the pros so don't worry if you don't understand too much!"
      ]
    },
    {
      "cell_type": "markdown",
      "metadata": {
        "id": "GlD3twUvzO8i"
      },
      "source": [
        "As honorary principal at DESI High, Saul has a special opening address to all the students, including you!"
      ]
    },
    {
      "cell_type": "markdown",
      "metadata": {
        "id": "G_Ooaj8dzO8i"
      },
      "source": [
        "[A welcome to DESI High, Prof. Saul Perlmutter](https://github.com/michaelJwilson/desihigh/blob/main/desihigh/perlmutter/letter.pdf)"
      ]
    },
    {
      "cell_type": "markdown",
      "metadata": {
        "id": "UmdGAdYyzO8j"
      },
      "source": [
        "The primary motivation for DESI is to repeat similar distant-redshift measurements much more precisely and learn much more about this spooky Dark Energy!"
      ]
    },
    {
      "cell_type": "code",
      "execution_count": 35,
      "metadata": {
        "id": "lmnQbXGfzO8j"
      },
      "outputs": [],
      "source": []
    },
    {
      "cell_type": "code",
      "execution_count": 35,
      "metadata": {
        "id": "oGA6jPDNzO8j"
      },
      "outputs": [],
      "source": []
    }
  ],
  "metadata": {
    "interpreter": {
      "hash": "05744e531a6b5accf174ab064947cca0fa700a25ff2828a9ac0fc01bbcf870af"
    },
    "kernelspec": {
      "display_name": "Python 3 (ipykernel)",
      "language": "python",
      "name": "python3"
    },
    "language_info": {
      "codemirror_mode": {
        "name": "ipython",
        "version": 3
      },
      "file_extension": ".py",
      "mimetype": "text/x-python",
      "name": "python",
      "nbconvert_exporter": "python",
      "pygments_lexer": "ipython3",
      "version": "3.11.3"
    },
    "latex_envs": {
      "LaTeX_envs_menu_present": true,
      "autoclose": false,
      "autocomplete": true,
      "bibliofile": "biblio.bib",
      "cite_by": "apalike",
      "current_citInitial": 1,
      "eqLabelWithNumbers": true,
      "eqNumInitial": 1,
      "hotkeys": {
        "equation": "Ctrl-E",
        "itemize": "Ctrl-I"
      },
      "labels_anchors": false,
      "latex_user_defs": false,
      "report_style_numbering": false,
      "user_envs_cfg": false
    },
    "nbTranslate": {
      "displayLangs": [
        "*"
      ],
      "hotkey": "alt-t",
      "langInMainMenu": true,
      "sourceLang": "en",
      "targetLang": "fr",
      "useGoogleTranslate": true
    },
    "colab": {
      "provenance": []
    }
  },
  "nbformat": 4,
  "nbformat_minor": 0
}